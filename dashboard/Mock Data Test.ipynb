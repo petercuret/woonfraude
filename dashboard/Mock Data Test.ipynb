{
 "cells": [
  {
   "cell_type": "code",
   "execution_count": 6,
   "metadata": {},
   "outputs": [],
   "source": [
    "import pandas as pd"
   ]
  },
  {
   "cell_type": "code",
   "execution_count": 29,
   "metadata": {},
   "outputs": [],
   "source": [
    "df = pd.read_csv('mockup_dataset.csv', sep=';', skipinitialspace=True)"
   ]
  },
  {
   "cell_type": "code",
   "execution_count": 30,
   "metadata": {},
   "outputs": [
    {
     "data": {
      "text/html": [
       "<div>\n",
       "<style scoped>\n",
       "    .dataframe tbody tr th:only-of-type {\n",
       "        vertical-align: middle;\n",
       "    }\n",
       "\n",
       "    .dataframe tbody tr th {\n",
       "        vertical-align: top;\n",
       "    }\n",
       "\n",
       "    .dataframe thead th {\n",
       "        text-align: right;\n",
       "    }\n",
       "</style>\n",
       "<table border=\"1\" class=\"dataframe\">\n",
       "  <thead>\n",
       "    <tr style=\"text-align: right;\">\n",
       "      <th></th>\n",
       "      <th>adres_id</th>\n",
       "      <th>wzs_lat</th>\n",
       "      <th>wzs_lon</th>\n",
       "      <th>categorie</th>\n",
       "      <th>aantal_personen</th>\n",
       "      <th>aantal_achternamen</th>\n",
       "      <th>eigenaar</th>\n",
       "      <th>woonfraude</th>\n",
       "    </tr>\n",
       "  </thead>\n",
       "  <tbody>\n",
       "    <tr>\n",
       "      <th>0</th>\n",
       "      <td>1</td>\n",
       "      <td>52.35405</td>\n",
       "      <td>4.91422</td>\n",
       "      <td>airbnb</td>\n",
       "      <td>2</td>\n",
       "      <td>2</td>\n",
       "      <td>stadgenoot</td>\n",
       "      <td>False</td>\n",
       "    </tr>\n",
       "    <tr>\n",
       "      <th>1</th>\n",
       "      <td>2</td>\n",
       "      <td>52.37345</td>\n",
       "      <td>4.86126</td>\n",
       "      <td>drugs</td>\n",
       "      <td>1</td>\n",
       "      <td>1</td>\n",
       "      <td>eigen haard</td>\n",
       "      <td>True</td>\n",
       "    </tr>\n",
       "    <tr>\n",
       "      <th>2</th>\n",
       "      <td>3</td>\n",
       "      <td>52.38345</td>\n",
       "      <td>4.87126</td>\n",
       "      <td>drugs</td>\n",
       "      <td>1</td>\n",
       "      <td>1</td>\n",
       "      <td>eigen haard</td>\n",
       "      <td>False</td>\n",
       "    </tr>\n",
       "    <tr>\n",
       "      <th>3</th>\n",
       "      <td>4</td>\n",
       "      <td>52.36345</td>\n",
       "      <td>4.85126</td>\n",
       "      <td>drugs</td>\n",
       "      <td>1</td>\n",
       "      <td>1</td>\n",
       "      <td>eigen haard</td>\n",
       "      <td>True</td>\n",
       "    </tr>\n",
       "  </tbody>\n",
       "</table>\n",
       "</div>"
      ],
      "text/plain": [
       "   adres_id   wzs_lat  wzs_lon categorie  aantal_personen  aantal_achternamen  \\\n",
       "0         1  52.35405  4.91422    airbnb                2                   2   \n",
       "1         2  52.37345  4.86126     drugs                1                   1   \n",
       "2         3  52.38345  4.87126     drugs                1                   1   \n",
       "3         4  52.36345  4.85126     drugs                1                   1   \n",
       "\n",
       "      eigenaar  woonfraude  \n",
       "0   stadgenoot       False  \n",
       "1  eigen haard        True  \n",
       "2  eigen haard       False  \n",
       "3  eigen haard        True  "
      ]
     },
     "execution_count": 30,
     "metadata": {},
     "output_type": "execute_result"
    }
   ],
   "source": [
    "df"
   ]
  },
  {
   "cell_type": "code",
   "execution_count": 31,
   "metadata": {},
   "outputs": [
    {
     "data": {
      "text/plain": [
       "0    False\n",
       "1     True\n",
       "2    False\n",
       "3     True\n",
       "Name: woonfraude, dtype: bool"
      ]
     },
     "execution_count": 31,
     "metadata": {},
     "output_type": "execute_result"
    }
   ],
   "source": [
    "df.woonfraude"
   ]
  },
  {
   "cell_type": "code",
   "execution_count": 32,
   "metadata": {},
   "outputs": [
    {
     "data": {
      "text/plain": [
       "0    1\n",
       "1    2\n",
       "2    3\n",
       "3    4\n",
       "Name: adres_id, dtype: int64"
      ]
     },
     "execution_count": 32,
     "metadata": {},
     "output_type": "execute_result"
    }
   ],
   "source": [
    "df.adres_id"
   ]
  },
  {
   "cell_type": "code",
   "execution_count": 33,
   "metadata": {},
   "outputs": [
    {
     "data": {
      "text/plain": [
       "adres_id                       1\n",
       "wzs_lat                  52.3541\n",
       "wzs_lon                  4.91422\n",
       "categorie                 airbnb\n",
       "aantal_personen                2\n",
       "aantal_achternamen             2\n",
       "eigenaar              stadgenoot\n",
       "woonfraude                 False\n",
       "Name: 0, dtype: object"
      ]
     },
     "execution_count": 33,
     "metadata": {},
     "output_type": "execute_result"
    }
   ],
   "source": [
    "df.loc[0]"
   ]
  },
  {
   "cell_type": "code",
   "execution_count": 34,
   "metadata": {},
   "outputs": [
    {
     "data": {
      "text/plain": [
       "['ID: 1', 'ID: 2', 'ID: 3', 'ID: 4']"
      ]
     },
     "execution_count": 34,
     "metadata": {},
     "output_type": "execute_result"
    }
   ],
   "source": [
    "[f'ID: {df.loc[i].adres_id}' for i in range(len(df))]"
   ]
  },
  {
   "cell_type": "code",
   "execution_count": 35,
   "metadata": {},
   "outputs": [],
   "source": [
    "pos = df[df.woonfraude==True]"
   ]
  },
  {
   "cell_type": "code",
   "execution_count": 36,
   "metadata": {},
   "outputs": [
    {
     "data": {
      "text/html": [
       "<div>\n",
       "<style scoped>\n",
       "    .dataframe tbody tr th:only-of-type {\n",
       "        vertical-align: middle;\n",
       "    }\n",
       "\n",
       "    .dataframe tbody tr th {\n",
       "        vertical-align: top;\n",
       "    }\n",
       "\n",
       "    .dataframe thead th {\n",
       "        text-align: right;\n",
       "    }\n",
       "</style>\n",
       "<table border=\"1\" class=\"dataframe\">\n",
       "  <thead>\n",
       "    <tr style=\"text-align: right;\">\n",
       "      <th></th>\n",
       "      <th>adres_id</th>\n",
       "      <th>wzs_lat</th>\n",
       "      <th>wzs_lon</th>\n",
       "      <th>categorie</th>\n",
       "      <th>aantal_personen</th>\n",
       "      <th>aantal_achternamen</th>\n",
       "      <th>eigenaar</th>\n",
       "      <th>woonfraude</th>\n",
       "    </tr>\n",
       "  </thead>\n",
       "  <tbody>\n",
       "    <tr>\n",
       "      <th>1</th>\n",
       "      <td>2</td>\n",
       "      <td>52.37345</td>\n",
       "      <td>4.86126</td>\n",
       "      <td>drugs</td>\n",
       "      <td>1</td>\n",
       "      <td>1</td>\n",
       "      <td>eigen haard</td>\n",
       "      <td>True</td>\n",
       "    </tr>\n",
       "    <tr>\n",
       "      <th>3</th>\n",
       "      <td>4</td>\n",
       "      <td>52.36345</td>\n",
       "      <td>4.85126</td>\n",
       "      <td>drugs</td>\n",
       "      <td>1</td>\n",
       "      <td>1</td>\n",
       "      <td>eigen haard</td>\n",
       "      <td>True</td>\n",
       "    </tr>\n",
       "  </tbody>\n",
       "</table>\n",
       "</div>"
      ],
      "text/plain": [
       "   adres_id   wzs_lat  wzs_lon categorie  aantal_personen  aantal_achternamen  \\\n",
       "1         2  52.37345  4.86126     drugs                1                   1   \n",
       "3         4  52.36345  4.85126     drugs                1                   1   \n",
       "\n",
       "      eigenaar  woonfraude  \n",
       "1  eigen haard        True  \n",
       "3  eigen haard        True  "
      ]
     },
     "execution_count": 36,
     "metadata": {},
     "output_type": "execute_result"
    }
   ],
   "source": [
    "pos"
   ]
  },
  {
   "cell_type": "code",
   "execution_count": 44,
   "metadata": {},
   "outputs": [
    {
     "data": {
      "text/plain": [
       "1    ID: 2 \\n Categorie: drugs\n",
       "3    ID: 4 \\n Categorie: drugs\n",
       "dtype: object"
      ]
     },
     "execution_count": 44,
     "metadata": {},
     "output_type": "execute_result"
    }
   ],
   "source": [
    "def make_hover_string(row):\n",
    "    return f\"ID: {row.adres_id} \\n Categorie: {row.categorie}\"\n",
    "\n",
    "pos.apply(make_hover_string, axis=1)"
   ]
  },
  {
   "cell_type": "code",
   "execution_count": 53,
   "metadata": {},
   "outputs": [
    {
     "data": {
      "text/plain": [
       "array(['airbnb', 'drugs'], dtype=object)"
      ]
     },
     "execution_count": 53,
     "metadata": {},
     "output_type": "execute_result"
    }
   ],
   "source": [
    "df.categorie.unique()"
   ]
  },
  {
   "cell_type": "code",
   "execution_count": 54,
   "metadata": {},
   "outputs": [
    {
     "data": {
      "text/plain": [
       "[{'label': 'airbnb', 'value': 'airbnb'}, {'label': 'drugs', 'value': 'drugs'}]"
      ]
     },
     "execution_count": 54,
     "metadata": {},
     "output_type": "execute_result"
    }
   ],
   "source": [
    "[{'label': x, 'value': x} for x in df.categorie.unique()]"
   ]
  },
  {
   "cell_type": "code",
   "execution_count": 55,
   "metadata": {},
   "outputs": [
    {
     "data": {
      "text/plain": [
       "array(['airbnb', 'drugs'], dtype=object)"
      ]
     },
     "execution_count": 55,
     "metadata": {},
     "output_type": "execute_result"
    }
   ],
   "source": [
    "df.categorie.unique()"
   ]
  },
  {
   "cell_type": "code",
   "execution_count": 64,
   "metadata": {},
   "outputs": [],
   "source": [
    "selected_categories = df.categorie.unique()"
   ]
  },
  {
   "cell_type": "code",
   "execution_count": 65,
   "metadata": {},
   "outputs": [
    {
     "data": {
      "text/plain": [
       "array(['airbnb', 'drugs'], dtype=object)"
      ]
     },
     "execution_count": 65,
     "metadata": {},
     "output_type": "execute_result"
    }
   ],
   "source": [
    "selected_categories"
   ]
  },
  {
   "cell_type": "code",
   "execution_count": 58,
   "metadata": {},
   "outputs": [
    {
     "data": {
      "text/plain": [
       "Index(['adres_id', 'wzs_lat', 'wzs_lon', 'categorie', 'aantal_personen',\n",
       "       'aantal_achternamen', 'eigenaar', 'woonfraude'],\n",
       "      dtype='object')"
      ]
     },
     "execution_count": 58,
     "metadata": {},
     "output_type": "execute_result"
    }
   ],
   "source": [
    "df.columns"
   ]
  },
  {
   "cell_type": "code",
   "execution_count": 69,
   "metadata": {},
   "outputs": [],
   "source": [
    "df_sel = df[df.categorie.isin(selected_categories)]"
   ]
  },
  {
   "cell_type": "code",
   "execution_count": 70,
   "metadata": {},
   "outputs": [
    {
     "data": {
      "text/html": [
       "<div>\n",
       "<style scoped>\n",
       "    .dataframe tbody tr th:only-of-type {\n",
       "        vertical-align: middle;\n",
       "    }\n",
       "\n",
       "    .dataframe tbody tr th {\n",
       "        vertical-align: top;\n",
       "    }\n",
       "\n",
       "    .dataframe thead th {\n",
       "        text-align: right;\n",
       "    }\n",
       "</style>\n",
       "<table border=\"1\" class=\"dataframe\">\n",
       "  <thead>\n",
       "    <tr style=\"text-align: right;\">\n",
       "      <th></th>\n",
       "      <th>adres_id</th>\n",
       "      <th>wzs_lat</th>\n",
       "      <th>wzs_lon</th>\n",
       "      <th>categorie</th>\n",
       "      <th>aantal_personen</th>\n",
       "      <th>aantal_achternamen</th>\n",
       "      <th>eigenaar</th>\n",
       "      <th>woonfraude</th>\n",
       "    </tr>\n",
       "  </thead>\n",
       "  <tbody>\n",
       "    <tr>\n",
       "      <th>0</th>\n",
       "      <td>1</td>\n",
       "      <td>52.35405</td>\n",
       "      <td>4.91422</td>\n",
       "      <td>airbnb</td>\n",
       "      <td>2</td>\n",
       "      <td>2</td>\n",
       "      <td>stadgenoot</td>\n",
       "      <td>False</td>\n",
       "    </tr>\n",
       "    <tr>\n",
       "      <th>1</th>\n",
       "      <td>2</td>\n",
       "      <td>52.37345</td>\n",
       "      <td>4.86126</td>\n",
       "      <td>drugs</td>\n",
       "      <td>1</td>\n",
       "      <td>1</td>\n",
       "      <td>eigen haard</td>\n",
       "      <td>True</td>\n",
       "    </tr>\n",
       "    <tr>\n",
       "      <th>2</th>\n",
       "      <td>3</td>\n",
       "      <td>52.38345</td>\n",
       "      <td>4.87126</td>\n",
       "      <td>drugs</td>\n",
       "      <td>1</td>\n",
       "      <td>1</td>\n",
       "      <td>eigen haard</td>\n",
       "      <td>False</td>\n",
       "    </tr>\n",
       "    <tr>\n",
       "      <th>3</th>\n",
       "      <td>4</td>\n",
       "      <td>52.36345</td>\n",
       "      <td>4.85126</td>\n",
       "      <td>drugs</td>\n",
       "      <td>1</td>\n",
       "      <td>1</td>\n",
       "      <td>eigen haard</td>\n",
       "      <td>True</td>\n",
       "    </tr>\n",
       "  </tbody>\n",
       "</table>\n",
       "</div>"
      ],
      "text/plain": [
       "   adres_id   wzs_lat  wzs_lon categorie  aantal_personen  aantal_achternamen  \\\n",
       "0         1  52.35405  4.91422    airbnb                2                   2   \n",
       "1         2  52.37345  4.86126     drugs                1                   1   \n",
       "2         3  52.38345  4.87126     drugs                1                   1   \n",
       "3         4  52.36345  4.85126     drugs                1                   1   \n",
       "\n",
       "      eigenaar  woonfraude  \n",
       "0   stadgenoot       False  \n",
       "1  eigen haard        True  \n",
       "2  eigen haard       False  \n",
       "3  eigen haard        True  "
      ]
     },
     "execution_count": 70,
     "metadata": {},
     "output_type": "execute_result"
    }
   ],
   "source": [
    "df_sel"
   ]
  },
  {
   "cell_type": "code",
   "execution_count": 72,
   "metadata": {},
   "outputs": [
    {
     "data": {
      "text/html": [
       "<div>\n",
       "<style scoped>\n",
       "    .dataframe tbody tr th:only-of-type {\n",
       "        vertical-align: middle;\n",
       "    }\n",
       "\n",
       "    .dataframe tbody tr th {\n",
       "        vertical-align: top;\n",
       "    }\n",
       "\n",
       "    .dataframe thead th {\n",
       "        text-align: right;\n",
       "    }\n",
       "</style>\n",
       "<table border=\"1\" class=\"dataframe\">\n",
       "  <thead>\n",
       "    <tr style=\"text-align: right;\">\n",
       "      <th></th>\n",
       "      <th>adres_id</th>\n",
       "      <th>wzs_lat</th>\n",
       "      <th>wzs_lon</th>\n",
       "      <th>categorie</th>\n",
       "      <th>aantal_personen</th>\n",
       "      <th>aantal_achternamen</th>\n",
       "      <th>eigenaar</th>\n",
       "      <th>woonfraude</th>\n",
       "    </tr>\n",
       "  </thead>\n",
       "  <tbody>\n",
       "    <tr>\n",
       "      <th>0</th>\n",
       "      <td>1</td>\n",
       "      <td>52.35405</td>\n",
       "      <td>4.91422</td>\n",
       "      <td>airbnb</td>\n",
       "      <td>2</td>\n",
       "      <td>2</td>\n",
       "      <td>stadgenoot</td>\n",
       "      <td>False</td>\n",
       "    </tr>\n",
       "    <tr>\n",
       "      <th>1</th>\n",
       "      <td>2</td>\n",
       "      <td>52.37345</td>\n",
       "      <td>4.86126</td>\n",
       "      <td>drugs</td>\n",
       "      <td>1</td>\n",
       "      <td>1</td>\n",
       "      <td>eigen haard</td>\n",
       "      <td>True</td>\n",
       "    </tr>\n",
       "  </tbody>\n",
       "</table>\n",
       "</div>"
      ],
      "text/plain": [
       "   adres_id   wzs_lat  wzs_lon categorie  aantal_personen  aantal_achternamen  \\\n",
       "0         1  52.35405  4.91422    airbnb                2                   2   \n",
       "1         2  52.37345  4.86126     drugs                1                   1   \n",
       "\n",
       "      eigenaar  woonfraude  \n",
       "0   stadgenoot       False  \n",
       "1  eigen haard        True  "
      ]
     },
     "execution_count": 72,
     "metadata": {},
     "output_type": "execute_result"
    }
   ],
   "source": [
    "df.loc[[0,1]]"
   ]
  },
  {
   "cell_type": "code",
   "execution_count": 76,
   "metadata": {},
   "outputs": [
    {
     "data": {
      "text/plain": [
       "[0, 1, 2, 3]"
      ]
     },
     "execution_count": 76,
     "metadata": {},
     "output_type": "execute_result"
    }
   ],
   "source": [
    "df.index.tolist()"
   ]
  },
  {
   "cell_type": "code",
   "execution_count": null,
   "metadata": {},
   "outputs": [],
   "source": []
  }
 ],
 "metadata": {
  "kernelspec": {
   "display_name": "Python 3",
   "language": "python",
   "name": "python3"
  },
  "language_info": {
   "codemirror_mode": {
    "name": "ipython",
    "version": 3
   },
   "file_extension": ".py",
   "mimetype": "text/x-python",
   "name": "python",
   "nbconvert_exporter": "python",
   "pygments_lexer": "ipython3",
   "version": "3.7.3"
  }
 },
 "nbformat": 4,
 "nbformat_minor": 2
}
