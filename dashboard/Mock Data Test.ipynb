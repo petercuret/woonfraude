{
 "cells": [
  {
   "cell_type": "code",
   "execution_count": 1,
   "metadata": {},
   "outputs": [],
   "source": [
    "import pandas as pd"
   ]
  },
  {
   "cell_type": "code",
   "execution_count": 2,
   "metadata": {},
   "outputs": [],
   "source": [
    "df_proactief = pd.read_csv('mockup_dataset_proactief.csv', sep=';', skipinitialspace=True)"
   ]
  },
  {
   "cell_type": "code",
   "execution_count": 3,
   "metadata": {},
   "outputs": [
    {
     "data": {
      "text/plain": [
       "Index(['adres_id', 'wzs_lat', 'wzs_lon', 'stadsdeel', 'categorie', 'sttnaam',\n",
       "       'hsnr', 'toev', 'hsltr', 'aantal_personen', 'aantal_achternamen',\n",
       "       'eigenaar', 'woonfraude', 'fraude_kans', 'aantal_meldingen',\n",
       "       'is_hotline', 'm2_per_persoon', 'gebruikersdoel', 'aantal_volwassenen',\n",
       "       'profiel'],\n",
       "      dtype='object')"
      ]
     },
     "execution_count": 3,
     "metadata": {},
     "output_type": "execute_result"
    }
   ],
   "source": [
    "df_proactief.columns"
   ]
  },
  {
   "cell_type": "code",
   "execution_count": 5,
   "metadata": {},
   "outputs": [
    {
     "data": {
      "text/plain": [
       "{0: '0', 1: '1', 2: '2', 3: '3'}"
      ]
     },
     "execution_count": 5,
     "metadata": {},
     "output_type": "execute_result"
    }
   ],
   "source": [
    "marks={i: f\"{i}\" for i in range(0, max(df_proactief.aantal_meldingen))}\n",
    "marks"
   ]
  },
  {
   "cell_type": "code",
   "execution_count": 7,
   "metadata": {},
   "outputs": [
    {
     "data": {
      "text/plain": [
       "[{'label': False, 'value': False}, {'label': True, 'value': True}]"
      ]
     },
     "execution_count": 7,
     "metadata": {},
     "output_type": "execute_result"
    }
   ],
   "source": [
    "[{'label': x, 'value': x} for x in sorted(df_proactief.is_hotline.unique())]"
   ]
  },
  {
   "cell_type": "code",
   "execution_count": 9,
   "metadata": {},
   "outputs": [
    {
     "data": {
      "text/plain": [
       "[{'label': 'Centrum', 'value': 'Centrum'},\n",
       " {'label': 'Centrum Oost', 'value': 'Centrum Oost'},\n",
       " {'label': 'Oost', 'value': 'Oost'}]"
      ]
     },
     "execution_count": 9,
     "metadata": {},
     "output_type": "execute_result"
    }
   ],
   "source": [
    "[{'label': x, 'value': x} for x in sorted(df_proactief.stadsdeel.unique())]"
   ]
  },
  {
   "cell_type": "code",
   "execution_count": 8,
   "metadata": {},
   "outputs": [
    {
     "data": {
      "text/plain": [
       "['Centrum', 'Centrum Oost', 'Oost']"
      ]
     },
     "execution_count": 8,
     "metadata": {},
     "output_type": "execute_result"
    }
   ],
   "source": [
    "sorted(df_proactief.stadsdeel.unique())"
   ]
  },
  {
   "cell_type": "code",
   "execution_count": 11,
   "metadata": {},
   "outputs": [
    {
     "data": {
      "text/plain": [
       "13"
      ]
     },
     "execution_count": 11,
     "metadata": {},
     "output_type": "execute_result"
    }
   ],
   "source": [
    "min(df_proactief.m2_per_persoon)"
   ]
  },
  {
   "cell_type": "code",
   "execution_count": 12,
   "metadata": {},
   "outputs": [
    {
     "data": {
      "text/plain": [
       "{13: '13',\n",
       " 14: '14',\n",
       " 15: '15',\n",
       " 16: '16',\n",
       " 17: '17',\n",
       " 18: '18',\n",
       " 19: '19',\n",
       " 20: '20',\n",
       " 21: '21',\n",
       " 22: '22',\n",
       " 23: '23',\n",
       " 24: '24',\n",
       " 25: '25',\n",
       " 26: '26',\n",
       " 27: '27',\n",
       " 28: '28',\n",
       " 29: '29',\n",
       " 30: '30',\n",
       " 31: '31',\n",
       " 32: '32',\n",
       " 33: '33',\n",
       " 34: '34',\n",
       " 35: '35',\n",
       " 36: '36',\n",
       " 37: '37',\n",
       " 38: '38',\n",
       " 39: '39',\n",
       " 40: '40',\n",
       " 41: '41',\n",
       " 42: '42',\n",
       " 43: '43',\n",
       " 44: '44',\n",
       " 45: '45',\n",
       " 46: '46',\n",
       " 47: '47',\n",
       " 48: '48',\n",
       " 49: '49',\n",
       " 50: '50',\n",
       " 51: '51',\n",
       " 52: '52'}"
      ]
     },
     "execution_count": 12,
     "metadata": {},
     "output_type": "execute_result"
    }
   ],
   "source": [
    "{i: f\"{i}\" for i in range(min(df_proactief.m2_per_persoon), max(df_proactief.m2_per_persoon)+1)}"
   ]
  },
  {
   "cell_type": "code",
   "execution_count": 2,
   "metadata": {},
   "outputs": [],
   "source": [
    "df = pd.read_csv('mockup_dataset.csv', sep=';', skipinitialspace=True)"
   ]
  },
  {
   "cell_type": "code",
   "execution_count": 4,
   "metadata": {},
   "outputs": [
    {
     "data": {
      "text/html": [
       "<div>\n",
       "<style scoped>\n",
       "    .dataframe tbody tr th:only-of-type {\n",
       "        vertical-align: middle;\n",
       "    }\n",
       "\n",
       "    .dataframe tbody tr th {\n",
       "        vertical-align: top;\n",
       "    }\n",
       "\n",
       "    .dataframe thead th {\n",
       "        text-align: right;\n",
       "    }\n",
       "</style>\n",
       "<table border=\"1\" class=\"dataframe\">\n",
       "  <thead>\n",
       "    <tr style=\"text-align: right;\">\n",
       "      <th></th>\n",
       "      <th>adres_id</th>\n",
       "      <th>wzs_lat</th>\n",
       "      <th>wzs_lon</th>\n",
       "      <th>stadsdeel</th>\n",
       "      <th>categorie</th>\n",
       "      <th>aantal_personen</th>\n",
       "      <th>aantal_achternamen</th>\n",
       "      <th>eigenaar</th>\n",
       "      <th>woonfraude</th>\n",
       "      <th>float_test</th>\n",
       "    </tr>\n",
       "  </thead>\n",
       "  <tbody>\n",
       "    <tr>\n",
       "      <th>0</th>\n",
       "      <td>1</td>\n",
       "      <td>52.354050</td>\n",
       "      <td>4.914220</td>\n",
       "      <td>B</td>\n",
       "      <td>airbnb</td>\n",
       "      <td>2</td>\n",
       "      <td>2</td>\n",
       "      <td>stadgenoot</td>\n",
       "      <td>False</td>\n",
       "      <td>0.112300</td>\n",
       "    </tr>\n",
       "    <tr>\n",
       "      <th>1</th>\n",
       "      <td>2</td>\n",
       "      <td>52.373450</td>\n",
       "      <td>4.861260</td>\n",
       "      <td>A</td>\n",
       "      <td>drugs</td>\n",
       "      <td>1</td>\n",
       "      <td>1</td>\n",
       "      <td>eigen haard</td>\n",
       "      <td>True</td>\n",
       "      <td>0.643200</td>\n",
       "    </tr>\n",
       "    <tr>\n",
       "      <th>2</th>\n",
       "      <td>3</td>\n",
       "      <td>52.383450</td>\n",
       "      <td>4.871260</td>\n",
       "      <td>A</td>\n",
       "      <td>banana hoarding</td>\n",
       "      <td>1</td>\n",
       "      <td>1</td>\n",
       "      <td>eigen haard</td>\n",
       "      <td>False</td>\n",
       "      <td>0.313241</td>\n",
       "    </tr>\n",
       "    <tr>\n",
       "      <th>3</th>\n",
       "      <td>4</td>\n",
       "      <td>52.363450</td>\n",
       "      <td>4.851260</td>\n",
       "      <td>A</td>\n",
       "      <td>drugs</td>\n",
       "      <td>1</td>\n",
       "      <td>1</td>\n",
       "      <td>eigen haard</td>\n",
       "      <td>True</td>\n",
       "      <td>0.843210</td>\n",
       "    </tr>\n",
       "    <tr>\n",
       "      <th>4</th>\n",
       "      <td>5</td>\n",
       "      <td>52.363459</td>\n",
       "      <td>4.893454</td>\n",
       "      <td>B</td>\n",
       "      <td>neuzen</td>\n",
       "      <td>1</td>\n",
       "      <td>1</td>\n",
       "      <td>de key</td>\n",
       "      <td>True</td>\n",
       "      <td>0.986400</td>\n",
       "    </tr>\n",
       "  </tbody>\n",
       "</table>\n",
       "</div>"
      ],
      "text/plain": [
       "   adres_id    wzs_lat   wzs_lon stadsdeel        categorie  aantal_personen  \\\n",
       "0         1  52.354050  4.914220         B           airbnb                2   \n",
       "1         2  52.373450  4.861260         A            drugs                1   \n",
       "2         3  52.383450  4.871260         A  banana hoarding                1   \n",
       "3         4  52.363450  4.851260         A            drugs                1   \n",
       "4         5  52.363459  4.893454         B           neuzen                1   \n",
       "\n",
       "   aantal_achternamen     eigenaar  woonfraude  float_test  \n",
       "0                   2   stadgenoot       False    0.112300  \n",
       "1                   1  eigen haard        True    0.643200  \n",
       "2                   1  eigen haard       False    0.313241  \n",
       "3                   1  eigen haard        True    0.843210  \n",
       "4                   1       de key        True    0.986400  "
      ]
     },
     "execution_count": 4,
     "metadata": {},
     "output_type": "execute_result"
    }
   ],
   "source": [
    "df"
   ]
  },
  {
   "cell_type": "code",
   "execution_count": 31,
   "metadata": {},
   "outputs": [
    {
     "data": {
      "text/plain": [
       "0    False\n",
       "1     True\n",
       "2    False\n",
       "3     True\n",
       "Name: woonfraude, dtype: bool"
      ]
     },
     "execution_count": 31,
     "metadata": {},
     "output_type": "execute_result"
    }
   ],
   "source": [
    "df.woonfraude"
   ]
  },
  {
   "cell_type": "code",
   "execution_count": 32,
   "metadata": {},
   "outputs": [
    {
     "data": {
      "text/plain": [
       "0    1\n",
       "1    2\n",
       "2    3\n",
       "3    4\n",
       "Name: adres_id, dtype: int64"
      ]
     },
     "execution_count": 32,
     "metadata": {},
     "output_type": "execute_result"
    }
   ],
   "source": [
    "df.adres_id"
   ]
  },
  {
   "cell_type": "code",
   "execution_count": 33,
   "metadata": {},
   "outputs": [
    {
     "data": {
      "text/plain": [
       "adres_id                       1\n",
       "wzs_lat                  52.3541\n",
       "wzs_lon                  4.91422\n",
       "categorie                 airbnb\n",
       "aantal_personen                2\n",
       "aantal_achternamen             2\n",
       "eigenaar              stadgenoot\n",
       "woonfraude                 False\n",
       "Name: 0, dtype: object"
      ]
     },
     "execution_count": 33,
     "metadata": {},
     "output_type": "execute_result"
    }
   ],
   "source": [
    "df.loc[0]"
   ]
  },
  {
   "cell_type": "code",
   "execution_count": 34,
   "metadata": {},
   "outputs": [
    {
     "data": {
      "text/plain": [
       "['ID: 1', 'ID: 2', 'ID: 3', 'ID: 4']"
      ]
     },
     "execution_count": 34,
     "metadata": {},
     "output_type": "execute_result"
    }
   ],
   "source": [
    "[f'ID: {df.loc[i].adres_id}' for i in range(len(df))]"
   ]
  },
  {
   "cell_type": "code",
   "execution_count": 35,
   "metadata": {},
   "outputs": [],
   "source": [
    "pos = df[df.woonfraude==True]"
   ]
  },
  {
   "cell_type": "code",
   "execution_count": 36,
   "metadata": {},
   "outputs": [
    {
     "data": {
      "text/html": [
       "<div>\n",
       "<style scoped>\n",
       "    .dataframe tbody tr th:only-of-type {\n",
       "        vertical-align: middle;\n",
       "    }\n",
       "\n",
       "    .dataframe tbody tr th {\n",
       "        vertical-align: top;\n",
       "    }\n",
       "\n",
       "    .dataframe thead th {\n",
       "        text-align: right;\n",
       "    }\n",
       "</style>\n",
       "<table border=\"1\" class=\"dataframe\">\n",
       "  <thead>\n",
       "    <tr style=\"text-align: right;\">\n",
       "      <th></th>\n",
       "      <th>adres_id</th>\n",
       "      <th>wzs_lat</th>\n",
       "      <th>wzs_lon</th>\n",
       "      <th>categorie</th>\n",
       "      <th>aantal_personen</th>\n",
       "      <th>aantal_achternamen</th>\n",
       "      <th>eigenaar</th>\n",
       "      <th>woonfraude</th>\n",
       "    </tr>\n",
       "  </thead>\n",
       "  <tbody>\n",
       "    <tr>\n",
       "      <th>1</th>\n",
       "      <td>2</td>\n",
       "      <td>52.37345</td>\n",
       "      <td>4.86126</td>\n",
       "      <td>drugs</td>\n",
       "      <td>1</td>\n",
       "      <td>1</td>\n",
       "      <td>eigen haard</td>\n",
       "      <td>True</td>\n",
       "    </tr>\n",
       "    <tr>\n",
       "      <th>3</th>\n",
       "      <td>4</td>\n",
       "      <td>52.36345</td>\n",
       "      <td>4.85126</td>\n",
       "      <td>drugs</td>\n",
       "      <td>1</td>\n",
       "      <td>1</td>\n",
       "      <td>eigen haard</td>\n",
       "      <td>True</td>\n",
       "    </tr>\n",
       "  </tbody>\n",
       "</table>\n",
       "</div>"
      ],
      "text/plain": [
       "   adres_id   wzs_lat  wzs_lon categorie  aantal_personen  aantal_achternamen  \\\n",
       "1         2  52.37345  4.86126     drugs                1                   1   \n",
       "3         4  52.36345  4.85126     drugs                1                   1   \n",
       "\n",
       "      eigenaar  woonfraude  \n",
       "1  eigen haard        True  \n",
       "3  eigen haard        True  "
      ]
     },
     "execution_count": 36,
     "metadata": {},
     "output_type": "execute_result"
    }
   ],
   "source": [
    "pos"
   ]
  },
  {
   "cell_type": "code",
   "execution_count": 44,
   "metadata": {},
   "outputs": [
    {
     "data": {
      "text/plain": [
       "1    ID: 2 \\n Categorie: drugs\n",
       "3    ID: 4 \\n Categorie: drugs\n",
       "dtype: object"
      ]
     },
     "execution_count": 44,
     "metadata": {},
     "output_type": "execute_result"
    }
   ],
   "source": [
    "def make_hover_string(row):\n",
    "    return f\"ID: {row.adres_id} \\n Categorie: {row.categorie}\"\n",
    "\n",
    "pos.apply(make_hover_string, axis=1)"
   ]
  },
  {
   "cell_type": "code",
   "execution_count": 53,
   "metadata": {},
   "outputs": [
    {
     "data": {
      "text/plain": [
       "array(['airbnb', 'drugs'], dtype=object)"
      ]
     },
     "execution_count": 53,
     "metadata": {},
     "output_type": "execute_result"
    }
   ],
   "source": [
    "df.categorie.unique()"
   ]
  },
  {
   "cell_type": "code",
   "execution_count": 54,
   "metadata": {},
   "outputs": [
    {
     "data": {
      "text/plain": [
       "[{'label': 'airbnb', 'value': 'airbnb'}, {'label': 'drugs', 'value': 'drugs'}]"
      ]
     },
     "execution_count": 54,
     "metadata": {},
     "output_type": "execute_result"
    }
   ],
   "source": [
    "[{'label': x, 'value': x} for x in df.categorie.unique()]"
   ]
  },
  {
   "cell_type": "code",
   "execution_count": 55,
   "metadata": {},
   "outputs": [
    {
     "data": {
      "text/plain": [
       "array(['airbnb', 'drugs'], dtype=object)"
      ]
     },
     "execution_count": 55,
     "metadata": {},
     "output_type": "execute_result"
    }
   ],
   "source": [
    "df.categorie.unique()"
   ]
  },
  {
   "cell_type": "code",
   "execution_count": 64,
   "metadata": {},
   "outputs": [],
   "source": [
    "selected_categories = df.categorie.unique()"
   ]
  },
  {
   "cell_type": "code",
   "execution_count": 65,
   "metadata": {},
   "outputs": [
    {
     "data": {
      "text/plain": [
       "array(['airbnb', 'drugs'], dtype=object)"
      ]
     },
     "execution_count": 65,
     "metadata": {},
     "output_type": "execute_result"
    }
   ],
   "source": [
    "selected_categories"
   ]
  },
  {
   "cell_type": "code",
   "execution_count": 58,
   "metadata": {},
   "outputs": [
    {
     "data": {
      "text/plain": [
       "Index(['adres_id', 'wzs_lat', 'wzs_lon', 'categorie', 'aantal_personen',\n",
       "       'aantal_achternamen', 'eigenaar', 'woonfraude'],\n",
       "      dtype='object')"
      ]
     },
     "execution_count": 58,
     "metadata": {},
     "output_type": "execute_result"
    }
   ],
   "source": [
    "df.columns"
   ]
  },
  {
   "cell_type": "code",
   "execution_count": 69,
   "metadata": {},
   "outputs": [],
   "source": [
    "df_sel = df[df.categorie.isin(selected_categories)]"
   ]
  },
  {
   "cell_type": "code",
   "execution_count": 70,
   "metadata": {},
   "outputs": [
    {
     "data": {
      "text/html": [
       "<div>\n",
       "<style scoped>\n",
       "    .dataframe tbody tr th:only-of-type {\n",
       "        vertical-align: middle;\n",
       "    }\n",
       "\n",
       "    .dataframe tbody tr th {\n",
       "        vertical-align: top;\n",
       "    }\n",
       "\n",
       "    .dataframe thead th {\n",
       "        text-align: right;\n",
       "    }\n",
       "</style>\n",
       "<table border=\"1\" class=\"dataframe\">\n",
       "  <thead>\n",
       "    <tr style=\"text-align: right;\">\n",
       "      <th></th>\n",
       "      <th>adres_id</th>\n",
       "      <th>wzs_lat</th>\n",
       "      <th>wzs_lon</th>\n",
       "      <th>categorie</th>\n",
       "      <th>aantal_personen</th>\n",
       "      <th>aantal_achternamen</th>\n",
       "      <th>eigenaar</th>\n",
       "      <th>woonfraude</th>\n",
       "    </tr>\n",
       "  </thead>\n",
       "  <tbody>\n",
       "    <tr>\n",
       "      <th>0</th>\n",
       "      <td>1</td>\n",
       "      <td>52.35405</td>\n",
       "      <td>4.91422</td>\n",
       "      <td>airbnb</td>\n",
       "      <td>2</td>\n",
       "      <td>2</td>\n",
       "      <td>stadgenoot</td>\n",
       "      <td>False</td>\n",
       "    </tr>\n",
       "    <tr>\n",
       "      <th>1</th>\n",
       "      <td>2</td>\n",
       "      <td>52.37345</td>\n",
       "      <td>4.86126</td>\n",
       "      <td>drugs</td>\n",
       "      <td>1</td>\n",
       "      <td>1</td>\n",
       "      <td>eigen haard</td>\n",
       "      <td>True</td>\n",
       "    </tr>\n",
       "    <tr>\n",
       "      <th>2</th>\n",
       "      <td>3</td>\n",
       "      <td>52.38345</td>\n",
       "      <td>4.87126</td>\n",
       "      <td>drugs</td>\n",
       "      <td>1</td>\n",
       "      <td>1</td>\n",
       "      <td>eigen haard</td>\n",
       "      <td>False</td>\n",
       "    </tr>\n",
       "    <tr>\n",
       "      <th>3</th>\n",
       "      <td>4</td>\n",
       "      <td>52.36345</td>\n",
       "      <td>4.85126</td>\n",
       "      <td>drugs</td>\n",
       "      <td>1</td>\n",
       "      <td>1</td>\n",
       "      <td>eigen haard</td>\n",
       "      <td>True</td>\n",
       "    </tr>\n",
       "  </tbody>\n",
       "</table>\n",
       "</div>"
      ],
      "text/plain": [
       "   adres_id   wzs_lat  wzs_lon categorie  aantal_personen  aantal_achternamen  \\\n",
       "0         1  52.35405  4.91422    airbnb                2                   2   \n",
       "1         2  52.37345  4.86126     drugs                1                   1   \n",
       "2         3  52.38345  4.87126     drugs                1                   1   \n",
       "3         4  52.36345  4.85126     drugs                1                   1   \n",
       "\n",
       "      eigenaar  woonfraude  \n",
       "0   stadgenoot       False  \n",
       "1  eigen haard        True  \n",
       "2  eigen haard       False  \n",
       "3  eigen haard        True  "
      ]
     },
     "execution_count": 70,
     "metadata": {},
     "output_type": "execute_result"
    }
   ],
   "source": [
    "df_sel"
   ]
  },
  {
   "cell_type": "code",
   "execution_count": 72,
   "metadata": {},
   "outputs": [
    {
     "data": {
      "text/html": [
       "<div>\n",
       "<style scoped>\n",
       "    .dataframe tbody tr th:only-of-type {\n",
       "        vertical-align: middle;\n",
       "    }\n",
       "\n",
       "    .dataframe tbody tr th {\n",
       "        vertical-align: top;\n",
       "    }\n",
       "\n",
       "    .dataframe thead th {\n",
       "        text-align: right;\n",
       "    }\n",
       "</style>\n",
       "<table border=\"1\" class=\"dataframe\">\n",
       "  <thead>\n",
       "    <tr style=\"text-align: right;\">\n",
       "      <th></th>\n",
       "      <th>adres_id</th>\n",
       "      <th>wzs_lat</th>\n",
       "      <th>wzs_lon</th>\n",
       "      <th>categorie</th>\n",
       "      <th>aantal_personen</th>\n",
       "      <th>aantal_achternamen</th>\n",
       "      <th>eigenaar</th>\n",
       "      <th>woonfraude</th>\n",
       "    </tr>\n",
       "  </thead>\n",
       "  <tbody>\n",
       "    <tr>\n",
       "      <th>0</th>\n",
       "      <td>1</td>\n",
       "      <td>52.35405</td>\n",
       "      <td>4.91422</td>\n",
       "      <td>airbnb</td>\n",
       "      <td>2</td>\n",
       "      <td>2</td>\n",
       "      <td>stadgenoot</td>\n",
       "      <td>False</td>\n",
       "    </tr>\n",
       "    <tr>\n",
       "      <th>1</th>\n",
       "      <td>2</td>\n",
       "      <td>52.37345</td>\n",
       "      <td>4.86126</td>\n",
       "      <td>drugs</td>\n",
       "      <td>1</td>\n",
       "      <td>1</td>\n",
       "      <td>eigen haard</td>\n",
       "      <td>True</td>\n",
       "    </tr>\n",
       "  </tbody>\n",
       "</table>\n",
       "</div>"
      ],
      "text/plain": [
       "   adres_id   wzs_lat  wzs_lon categorie  aantal_personen  aantal_achternamen  \\\n",
       "0         1  52.35405  4.91422    airbnb                2                   2   \n",
       "1         2  52.37345  4.86126     drugs                1                   1   \n",
       "\n",
       "      eigenaar  woonfraude  \n",
       "0   stadgenoot       False  \n",
       "1  eigen haard        True  "
      ]
     },
     "execution_count": 72,
     "metadata": {},
     "output_type": "execute_result"
    }
   ],
   "source": [
    "df.loc[[0,1]]"
   ]
  },
  {
   "cell_type": "code",
   "execution_count": 76,
   "metadata": {},
   "outputs": [
    {
     "data": {
      "text/plain": [
       "[0, 1, 2, 3]"
      ]
     },
     "execution_count": 76,
     "metadata": {},
     "output_type": "execute_result"
    }
   ],
   "source": [
    "df.index.tolist()"
   ]
  },
  {
   "cell_type": "code",
   "execution_count": 26,
   "metadata": {},
   "outputs": [
    {
     "data": {
      "text/plain": [
       "['A', 'B']"
      ]
     },
     "execution_count": 26,
     "metadata": {},
     "output_type": "execute_result"
    }
   ],
   "source": [
    "sorted(df.stadsdeel.unique())"
   ]
  },
  {
   "cell_type": "code",
   "execution_count": 28,
   "metadata": {},
   "outputs": [
    {
     "data": {
      "text/plain": [
       "['airbnb', 'banana hoarding', 'drugs', 'neuzen']"
      ]
     },
     "execution_count": 28,
     "metadata": {},
     "output_type": "execute_result"
    }
   ],
   "source": [
    "sorted(df.categorie.unique())"
   ]
  },
  {
   "cell_type": "code",
   "execution_count": 45,
   "metadata": {},
   "outputs": [
    {
     "data": {
      "text/plain": [
       "B    5\n",
       "A    3\n",
       "Name: stadsdeel, dtype: int64"
      ]
     },
     "execution_count": 45,
     "metadata": {},
     "output_type": "execute_result"
    }
   ],
   "source": [
    "df.stadsdeel.value_counts()"
   ]
  },
  {
   "cell_type": "code",
   "execution_count": 48,
   "metadata": {},
   "outputs": [],
   "source": [
    "value_counts = df.stadsdeel.value_counts().sort_index()"
   ]
  },
  {
   "cell_type": "code",
   "execution_count": 49,
   "metadata": {},
   "outputs": [
    {
     "data": {
      "text/plain": [
       "Index(['A', 'B'], dtype='object')"
      ]
     },
     "execution_count": 49,
     "metadata": {},
     "output_type": "execute_result"
    }
   ],
   "source": [
    "value_counts.index"
   ]
  },
  {
   "cell_type": "code",
   "execution_count": 37,
   "metadata": {},
   "outputs": [
    {
     "data": {
      "text/plain": [
       "array([3, 2])"
      ]
     },
     "execution_count": 37,
     "metadata": {},
     "output_type": "execute_result"
    }
   ],
   "source": [
    "value_counts.values"
   ]
  },
  {
   "cell_type": "code",
   "execution_count": 38,
   "metadata": {},
   "outputs": [
    {
     "data": {
      "text/plain": [
       "drugs              2\n",
       "banana hoarding    1\n",
       "neuzen             1\n",
       "airbnb             1\n",
       "Name: categorie, dtype: int64"
      ]
     },
     "execution_count": 38,
     "metadata": {},
     "output_type": "execute_result"
    }
   ],
   "source": [
    "df.categorie.value_counts()"
   ]
  },
  {
   "cell_type": "code",
   "execution_count": 50,
   "metadata": {},
   "outputs": [
    {
     "data": {
      "text/html": [
       "<div>\n",
       "<style scoped>\n",
       "    .dataframe tbody tr th:only-of-type {\n",
       "        vertical-align: middle;\n",
       "    }\n",
       "\n",
       "    .dataframe tbody tr th {\n",
       "        vertical-align: top;\n",
       "    }\n",
       "\n",
       "    .dataframe thead th {\n",
       "        text-align: right;\n",
       "    }\n",
       "</style>\n",
       "<table border=\"1\" class=\"dataframe\">\n",
       "  <thead>\n",
       "    <tr style=\"text-align: right;\">\n",
       "      <th></th>\n",
       "      <th>adres_id</th>\n",
       "      <th>wzs_lat</th>\n",
       "      <th>wzs_lon</th>\n",
       "      <th>stadsdeel</th>\n",
       "      <th>categorie</th>\n",
       "      <th>aantal_personen</th>\n",
       "      <th>aantal_achternamen</th>\n",
       "      <th>eigenaar</th>\n",
       "      <th>woonfraude</th>\n",
       "      <th>float_test</th>\n",
       "    </tr>\n",
       "  </thead>\n",
       "  <tbody>\n",
       "    <tr>\n",
       "      <th>0</th>\n",
       "      <td>1</td>\n",
       "      <td>52.354050</td>\n",
       "      <td>4.914220</td>\n",
       "      <td>B</td>\n",
       "      <td>airbnb</td>\n",
       "      <td>2</td>\n",
       "      <td>2</td>\n",
       "      <td>stadgenoot</td>\n",
       "      <td>False</td>\n",
       "      <td>0.112300</td>\n",
       "    </tr>\n",
       "    <tr>\n",
       "      <th>1</th>\n",
       "      <td>2</td>\n",
       "      <td>52.373450</td>\n",
       "      <td>4.861260</td>\n",
       "      <td>A</td>\n",
       "      <td>drugs</td>\n",
       "      <td>1</td>\n",
       "      <td>1</td>\n",
       "      <td>eigen haard</td>\n",
       "      <td>True</td>\n",
       "      <td>0.643200</td>\n",
       "    </tr>\n",
       "    <tr>\n",
       "      <th>2</th>\n",
       "      <td>3</td>\n",
       "      <td>52.383450</td>\n",
       "      <td>4.871260</td>\n",
       "      <td>A</td>\n",
       "      <td>banana hoarding</td>\n",
       "      <td>1</td>\n",
       "      <td>1</td>\n",
       "      <td>eigen haard</td>\n",
       "      <td>False</td>\n",
       "      <td>0.313241</td>\n",
       "    </tr>\n",
       "    <tr>\n",
       "      <th>3</th>\n",
       "      <td>4</td>\n",
       "      <td>52.363450</td>\n",
       "      <td>4.851260</td>\n",
       "      <td>A</td>\n",
       "      <td>drugs</td>\n",
       "      <td>1</td>\n",
       "      <td>1</td>\n",
       "      <td>eigen haard</td>\n",
       "      <td>True</td>\n",
       "      <td>0.843210</td>\n",
       "    </tr>\n",
       "    <tr>\n",
       "      <th>4</th>\n",
       "      <td>5</td>\n",
       "      <td>52.363459</td>\n",
       "      <td>4.893454</td>\n",
       "      <td>B</td>\n",
       "      <td>neuzen</td>\n",
       "      <td>1</td>\n",
       "      <td>1</td>\n",
       "      <td>de key</td>\n",
       "      <td>True</td>\n",
       "      <td>0.986400</td>\n",
       "    </tr>\n",
       "    <tr>\n",
       "      <th>5</th>\n",
       "      <td>6</td>\n",
       "      <td>52.363459</td>\n",
       "      <td>4.893454</td>\n",
       "      <td>B</td>\n",
       "      <td>hjsdgfkljsdf</td>\n",
       "      <td>1</td>\n",
       "      <td>1</td>\n",
       "      <td>de key</td>\n",
       "      <td>True</td>\n",
       "      <td>0.986400</td>\n",
       "    </tr>\n",
       "    <tr>\n",
       "      <th>6</th>\n",
       "      <td>7</td>\n",
       "      <td>52.363459</td>\n",
       "      <td>4.893454</td>\n",
       "      <td>B</td>\n",
       "      <td>fsdfasdfa</td>\n",
       "      <td>1</td>\n",
       "      <td>1</td>\n",
       "      <td>de key</td>\n",
       "      <td>True</td>\n",
       "      <td>0.986400</td>\n",
       "    </tr>\n",
       "    <tr>\n",
       "      <th>7</th>\n",
       "      <td>8</td>\n",
       "      <td>52.363459</td>\n",
       "      <td>4.893454</td>\n",
       "      <td>B</td>\n",
       "      <td>gsdfgsgdzb</td>\n",
       "      <td>1</td>\n",
       "      <td>1</td>\n",
       "      <td>de key</td>\n",
       "      <td>True</td>\n",
       "      <td>0.986400</td>\n",
       "    </tr>\n",
       "  </tbody>\n",
       "</table>\n",
       "</div>"
      ],
      "text/plain": [
       "   adres_id    wzs_lat   wzs_lon stadsdeel        categorie  aantal_personen  \\\n",
       "0         1  52.354050  4.914220         B           airbnb                2   \n",
       "1         2  52.373450  4.861260         A            drugs                1   \n",
       "2         3  52.383450  4.871260         A  banana hoarding                1   \n",
       "3         4  52.363450  4.851260         A            drugs                1   \n",
       "4         5  52.363459  4.893454         B           neuzen                1   \n",
       "5         6  52.363459  4.893454         B     hjsdgfkljsdf                1   \n",
       "6         7  52.363459  4.893454         B        fsdfasdfa                1   \n",
       "7         8  52.363459  4.893454         B       gsdfgsgdzb                1   \n",
       "\n",
       "   aantal_achternamen     eigenaar  woonfraude  float_test  \n",
       "0                   2   stadgenoot       False    0.112300  \n",
       "1                   1  eigen haard        True    0.643200  \n",
       "2                   1  eigen haard       False    0.313241  \n",
       "3                   1  eigen haard        True    0.843210  \n",
       "4                   1       de key        True    0.986400  \n",
       "5                   1       de key        True    0.986400  \n",
       "6                   1       de key        True    0.986400  \n",
       "7                   1       de key        True    0.986400  "
      ]
     },
     "execution_count": 50,
     "metadata": {},
     "output_type": "execute_result"
    }
   ],
   "source": [
    "df"
   ]
  },
  {
   "cell_type": "code",
   "execution_count": 3,
   "metadata": {},
   "outputs": [
    {
     "data": {
      "text/plain": [
       "A    3\n",
       "B    2\n",
       "C    1\n",
       "D    1\n",
       "E    1\n",
       "Name: stadsdeel, dtype: int64"
      ]
     },
     "execution_count": 3,
     "metadata": {},
     "output_type": "execute_result"
    }
   ],
   "source": [
    "df.stadsdeel.value_counts()"
   ]
  },
  {
   "cell_type": "code",
   "execution_count": 4,
   "metadata": {},
   "outputs": [
    {
     "data": {
      "text/plain": [
       "drugs              2\n",
       "airbnb             1\n",
       "bruinkool mijn     1\n",
       "parkietenplaag     1\n",
       "banana hoarding    1\n",
       "neuzen             1\n",
       "sinaasappels       1\n",
       "Name: categorie, dtype: int64"
      ]
     },
     "execution_count": 4,
     "metadata": {},
     "output_type": "execute_result"
    }
   ],
   "source": [
    "df.categorie.value_counts()"
   ]
  },
  {
   "cell_type": "code",
   "execution_count": null,
   "metadata": {},
   "outputs": [],
   "source": []
  }
 ],
 "metadata": {
  "kernelspec": {
   "display_name": "Python 3",
   "language": "python",
   "name": "python3"
  },
  "language_info": {
   "codemirror_mode": {
    "name": "ipython",
    "version": 3
   },
   "file_extension": ".py",
   "mimetype": "text/x-python",
   "name": "python",
   "nbconvert_exporter": "python",
   "pygments_lexer": "ipython3",
   "version": "3.7.3"
  }
 },
 "nbformat": 4,
 "nbformat_minor": 2
}
