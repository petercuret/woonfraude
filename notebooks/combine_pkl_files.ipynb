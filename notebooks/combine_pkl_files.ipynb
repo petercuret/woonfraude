{
 "cells": [
  {
   "cell_type": "code",
   "execution_count": 1,
   "metadata": {},
   "outputs": [],
   "source": [
    "import os\n",
    "import pandas as pd"
   ]
  },
  {
   "cell_type": "code",
   "execution_count": 2,
   "metadata": {},
   "outputs": [],
   "source": [
    "# Set path variables.\n",
    "path = \"E:\\\\woonfraude\\\\data\\\\base\\\\\"\n",
    "path_csv = path + \"csv_all\\\\\"\n",
    "files = os.listdir(path)\n",
    "n = 100\n",
    "\n",
    "# Define csv file for aggregation.\n",
    "agg_file_path = f\"{path_csv}ALL.csv\""
   ]
  },
  {
   "cell_type": "code",
   "execution_count": 3,
   "metadata": {},
   "outputs": [],
   "source": [
    "# Write all dfs to csv file.\n",
    "for i in range(0,n):\n",
    "    filename = \"df_%s.pkl\" % i\n",
    "    filepath = path + filename\n",
    "    df = pd.read_pickle(filepath)\n",
    "    df.to_csv(f\"{path_csv}df_{i}.csv\")"
   ]
  },
  {
   "cell_type": "code",
   "execution_count": 3,
   "metadata": {},
   "outputs": [
    {
     "name": "stdout",
     "output_type": "stream",
     "text": [
      "0\n",
      "1\n",
      "2\n",
      "3\n",
      "4\n",
      "5\n",
      "6\n",
      "7\n",
      "8\n",
      "9\n",
      "10\n",
      "11\n",
      "12\n",
      "13\n",
      "14\n",
      "15\n",
      "16\n",
      "17\n",
      "18\n",
      "19\n",
      "20\n",
      "21\n",
      "22\n",
      "23\n",
      "24\n",
      "25\n",
      "26\n",
      "27\n",
      "28\n",
      "29\n",
      "30\n",
      "31\n",
      "32\n",
      "33\n",
      "34\n",
      "35\n",
      "36\n",
      "37\n",
      "38\n",
      "39\n",
      "40\n",
      "41\n",
      "42\n",
      "43\n",
      "44\n",
      "45\n",
      "46\n",
      "47\n",
      "48\n",
      "49\n",
      "50\n",
      "51\n",
      "52\n",
      "53\n",
      "54\n",
      "55\n",
      "56\n",
      "57\n",
      "58\n",
      "59\n",
      "60\n",
      "61\n",
      "62\n",
      "63\n",
      "64\n",
      "65\n",
      "66\n",
      "67\n",
      "68\n",
      "69\n",
      "70\n",
      "71\n",
      "72\n",
      "73\n",
      "74\n",
      "75\n",
      "76\n",
      "77\n",
      "78\n",
      "79\n",
      "80\n",
      "81\n",
      "82\n",
      "83\n",
      "84\n",
      "85\n",
      "86\n",
      "87\n",
      "88\n",
      "89\n",
      "90\n",
      "91\n",
      "92\n",
      "93\n",
      "94\n",
      "95\n",
      "96\n",
      "97\n",
      "98\n",
      "99\n"
     ]
    }
   ],
   "source": [
    "# Combine all csv's into a single big csv file.\n",
    "for i in range(0,n):\n",
    "    \n",
    "    # Remember where we are.\n",
    "    print(i)\n",
    "    \n",
    "    # Open aggregation csv file.\n",
    "    res_file = open(agg_file_path, \"a\")\n",
    "    \n",
    "    # Open source csv file.\n",
    "    f = open(f\"{path_csv}df_{i}.csv\", \"r\", encoding=\"utf8\")\n",
    "    \n",
    "    # \"Remove\" the headers from all files except the first one.\n",
    "    if i != 0:\n",
    "        _ = f.readline()\n",
    "    \n",
    "    # Append the rest of the file to the final csv file.\n",
    "    res_file.write(f.read())\n",
    "    \n",
    "    # Close source csv file.\n",
    "    f.close()\n",
    "\n",
    "    # Close aggregation csv file.\n",
    "    res_file.close()"
   ]
  },
  {
   "cell_type": "code",
   "execution_count": 6,
   "metadata": {},
   "outputs": [],
   "source": [
    "# Try to read aggregated dataframe.\n",
    "df = pd.read_csv(\"E:\\\\woonfraude\\\\data\\\\base\\\\ALL.csv\", sep=',', encoding=\"latin-1\")"
   ]
  },
  {
   "cell_type": "code",
   "execution_count": 14,
   "metadata": {},
   "outputs": [
    {
     "data": {
      "text/plain": [
       "(517420, 38)"
      ]
     },
     "execution_count": 14,
     "metadata": {},
     "output_type": "execute_result"
    }
   ],
   "source": [
    "df.shape"
   ]
  },
  {
   "cell_type": "code",
   "execution_count": null,
   "metadata": {},
   "outputs": [],
   "source": []
  }
 ],
 "metadata": {
  "kernelspec": {
   "display_name": "Python 3",
   "language": "python",
   "name": "python3"
  },
  "language_info": {
   "codemirror_mode": {
    "name": "ipython",
    "version": 3
   },
   "file_extension": ".py",
   "mimetype": "text/x-python",
   "name": "python",
   "nbconvert_exporter": "python",
   "pygments_lexer": "ipython3",
   "version": "3.7.0"
  }
 },
 "nbformat": 4,
 "nbformat_minor": 2
}
