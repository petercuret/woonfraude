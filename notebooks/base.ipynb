{
 "cells": [
  {
   "cell_type": "code",
   "execution_count": null,
   "metadata": {},
   "outputs": [],
   "source": [
    "# Imports\n",
    "import os, sys\n",
    "from pathlib import Path\n",
    "\n",
    "# Add local codebase to path\n",
    "home = str(Path.home())\n",
    "sys.path.insert(1, f'{home}/Documents/woonfraude/codebase')\n",
    "\n",
    "# Import own core module\n",
    "import core, build_model"
   ]
  },
  {
   "cell_type": "code",
   "execution_count": null,
   "metadata": {},
   "outputs": [],
   "source": [
    "# OPTIONAL: Re-download and process adres/zaken/stadia/personen tables. Uncomment next line to run these steps.\n",
    "# core.main(DOWNLOAD=True, FIX=True, ENRICH=True, ADD_LABEL=True, EXTRACT_FEATURES=True, SPLIT_DATA=True, BUILD_MODEL=False)"
   ]
  },
  {
   "cell_type": "code",
   "execution_count": null,
   "metadata": {},
   "outputs": [],
   "source": [
    "# Load prepared and pre-split dataset (train/dev/test sets).\n",
    "# Load prepared and pre-split dataset (train/test sets).\n",
    "print('Loading data...')\n",
    "dfs = core.load_dfs('5')\n",
    "df = dfs['df']\n",
    "del dfs\n",
    "print('Done!')"
   ]
  }
 ],
 "metadata": {
  "kernelspec": {
   "display_name": "Python 3",
   "language": "python",
   "name": "python3"
  },
  "language_info": {
   "codemirror_mode": {
    "name": "ipython",
    "version": 3
   },
   "file_extension": ".py",
   "mimetype": "text/x-python",
   "name": "python",
   "nbconvert_exporter": "python",
   "pygments_lexer": "ipython3",
   "version": "3.6.8"
  }
 },
 "nbformat": 4,
 "nbformat_minor": 2
}
