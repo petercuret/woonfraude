{
 "cells": [
  {
   "cell_type": "code",
   "execution_count": null,
   "metadata": {},
   "outputs": [],
   "source": [
    "import os, sys\n",
    "\n",
    "# Add personal codebase to path, allowing to import own modules.\n",
    "head, tail = os.path.split(sys.path[1])\n",
    "sys.path.insert(1, os.path.join(head, \"codebase\"))\n",
    "\n",
    "# Fallback option in case above import does not work.\n",
    "# sys.path.insert(1, \"E:\\\\woonfraude\\\\Thomas\\\\codebase\")\n",
    "# core.main(DOWNLOAD=False, FIX=False, ADD_LABEL=False, EXTRACT_FEATURES=False, SPLIT_DATA= False, BUILD_MODEL=True)\n",
    "# Import own module\n",
    "import core"
   ]
  },
  {
   "cell_type": "code",
   "execution_count": null,
   "metadata": {},
   "outputs": [],
   "source": [
    "# OPTIONAL: Re-download and process adres/zaken/stadia tables. Uncomment next line to run.\n",
    "# core.main(DOWNLOAD=True, FIX=True, ADD_LABEL=True, EXTRACT_FEATURES=True, SPLIT_DATA=True, BUILD_MODEL=True)"
   ]
  },
  {
   "cell_type": "code",
   "execution_count": null,
   "metadata": {},
   "outputs": [],
   "source": [
    "# Load pre-cleaned adres/zaken/stadia tables.\n",
    "dfs = core.load_dfs('4')\n",
    "df = dfs['df']\n",
    "stadia = dfs['stadia']"
   ]
  }
 ],
 "metadata": {
  "kernelspec": {
   "display_name": "Python 3",
   "language": "python",
   "name": "python3"
  },
  "language_info": {
   "codemirror_mode": {
    "name": "ipython",
    "version": 3
   },
   "file_extension": ".py",
   "mimetype": "text/x-python",
   "name": "python",
   "nbconvert_exporter": "python",
   "pygments_lexer": "ipython3",
   "version": "3.7.0"
  }
 },
 "nbformat": 4,
 "nbformat_minor": 2
}
