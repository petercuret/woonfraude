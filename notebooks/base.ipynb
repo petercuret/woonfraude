{
 "cells": [
  {
   "cell_type": "code",
   "execution_count": null,
   "metadata": {},
   "outputs": [],
   "source": [
    "# Imports\n",
    "import os, sys\n",
    "from pathlib import Path\n",
    "\n",
    "# Add local codebase to path\n",
    "home = str(Path.home())\n",
    "sys.path.insert(1, f'{home}/Documents/woonfraude/codebase')\n",
    "\n",
    "# Import own core module\n",
    "import core"
   ]
  },
  {
   "cell_type": "code",
   "execution_count": null,
   "metadata": {},
   "outputs": [],
   "source": [
    "# OPTIONAL: Re-download and process adres/zaken/stadia/personen tables. Uncomment next line to run these steps.\n",
    "# core.main(DOWNLOAD=True, FIX=True, ADD_LABEL=True, EXTRACT_FEATURES=True, SPLIT_DATA=True, BUILD_MODEL=False)"
   ]
  },
  {
   "cell_type": "code",
   "execution_count": null,
   "metadata": {},
   "outputs": [],
   "source": [
    "# Load prepared and pre-split dataset (train/dev/test sets).\n",
    "dfs = core.load_dfs('5')\n",
    "X_train_org = dfs['X_train_org']\n",
    "X_dev = dfs['X_dev']\n",
    "X_test = dfs['X_test']\n",
    "y_train_org = dfs['y_train_org']\n",
    "y_dev = dfs['y_dev']\n",
    "y_test = dfs['y_test']\n",
    "del dfs"
   ]
  }
 ],
 "metadata": {
  "kernelspec": {
   "display_name": "Python 3",
   "language": "python",
   "name": "python3"
  },
  "language_info": {
   "codemirror_mode": {
    "name": "ipython",
    "version": 3
   },
   "file_extension": ".py",
   "mimetype": "text/x-python",
   "name": "python",
   "nbconvert_exporter": "python",
   "pygments_lexer": "ipython3",
   "version": "3.6.8"
  }
 },
 "nbformat": 4,
 "nbformat_minor": 2
}
