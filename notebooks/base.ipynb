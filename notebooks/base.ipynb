{
 "cells": [
  {
   "cell_type": "code",
   "execution_count": null,
   "metadata": {},
   "outputs": [],
   "source": [
    "# Load public modules.\n",
    "import os, sys\n",
    "from sklearn.pipeline import Pipeline\n",
    "from pathlib import Path\n",
    "\n",
    "# Add local codebase to path.\n",
    "user = str(Path.home()).split('/')[-1]  # Slightly ugly way to get the username.\n",
    "sys.path.insert(1, f'/data/{user}/Documents/woonfraude/codebase')  # Codebase path op nieuwe VAO.\n",
    "sys.path.insert(1, f'/home/{user}/Documents/woonfraude/codebase')  # Codebase path op oude VAO.\n",
    "\n",
    "# Import own modules.\n",
    "from datasets_oo import *\n",
    "from clean_oo import *\n",
    "from extract_features_oo import *"
   ]
  },
  {
   "cell_type": "code",
   "execution_count": null,
   "metadata": {},
   "outputs": [],
   "source": [
    "###################\n",
    "## Load datasets ##\n",
    "###################\n",
    "# Download (or load cached versions of) the datasets.\n",
    "\n",
    "# Adres\n",
    "adresDataset = AdresDataset()\n",
    "adresDataset.load('download')\n",
    "adresDataset.extract_leegstand()\n",
    "adresDataset.enrich_with_woning_id()\n",
    "# adresDataset.load('download_leegstand_woningId')\n",
    "\n",
    "# Zaken\n",
    "zakenDataset = ZakenDataset()\n",
    "zakenDataset.load('download')\n",
    "zakenDataset.add_categories()\n",
    "zakenDataset.filter_categories()\n",
    "# zakenDataset.load('download_categories_filterCategories')\n",
    "\n",
    "# Stadia\n",
    "stadiaDataset = StadiaDataset()\n",
    "stadiaDataset.load('download')\n",
    "stadiaDataset.add_zaak_stadium_ids()\n",
    "stadiaDataset.add_labels()\n",
    "# stadiaDataset.load('download_ids_labels')\n",
    "\n",
    "# Personen\n",
    "personenDataset = PersonenDataset()\n",
    "personenDataset.load('download')\n",
    "\n",
    "# BAG\n",
    "bagDataset = BagDataset()\n",
    "# bagDataset.load('download')\n",
    "# bagDataset.bag_fix()\n",
    "BagDataset.load('download_columnFix')\n",
    "\n",
    "# Hotline\n",
    "hotlineDataset = HotlineDataset()\n",
    "hotlineDataset.load('download')"
   ]
  },
  {
   "cell_type": "code",
   "execution_count": null,
   "metadata": {},
   "outputs": [],
   "source": []
  }
 ],
 "metadata": {
  "kernelspec": {
   "display_name": "Python 3",
   "language": "python",
   "name": "python3"
  },
  "language_info": {
   "codemirror_mode": {
    "name": "ipython",
    "version": 3
   },
   "file_extension": ".py",
   "mimetype": "text/x-python",
   "name": "python",
   "nbconvert_exporter": "python",
   "pygments_lexer": "ipython3",
   "version": "3.6.8"
  }
 },
 "nbformat": 4,
 "nbformat_minor": 2
}
