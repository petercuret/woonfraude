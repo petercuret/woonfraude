{
 "cells": [
  {
   "cell_type": "code",
   "execution_count": 1,
   "metadata": {},
   "outputs": [],
   "source": [
    "import os, sys\n",
    "\n",
    "# Add personal codebase to path, allowing to import own modules.\n",
    "head, tail = os.path.split(sys.path[1])\n",
    "sys.path.insert(1, os.path.join(head, \"codebase\"))\n",
    "\n",
    "# Fallback option in case above import does not work.\n",
    "# sys.path.insert(1, \"E:\\\\woonfraude\\\\Thomas\\\\codebase\")\n",
    "\n",
    "# Import own module\n",
    "import core"
   ]
  },
  {
   "cell_type": "code",
   "execution_count": null,
   "metadata": {},
   "outputs": [],
   "source": [
    "# OPTIONAL: Re-download adres/zaken/stadia tables. Uncomment next line to run.\n",
    "core.main(DOWNLOAD=False, FIX=False, ADD_LABEL=False, EXTRACT_FEATURES=True, BUILD_MODEL=True)"
   ]
  },
  {
   "cell_type": "code",
   "execution_count": 3,
   "metadata": {},
   "outputs": [],
   "source": [
    "# Load pre-cleaned adres/zaken/stadia tables.\n",
    "adres, zaken, stadia = core.load_dfs(3)"
   ]
  },
  {
   "cell_type": "code",
   "execution_count": null,
   "metadata": {},
   "outputs": [],
   "source": []
  }
 ],
 "metadata": {
  "kernelspec": {
   "display_name": "Python 3",
   "language": "python",
   "name": "python3"
  },
  "language_info": {
   "codemirror_mode": {
    "name": "ipython",
    "version": 3
   },
   "file_extension": ".py",
   "mimetype": "text/x-python",
   "name": "python",
   "nbconvert_exporter": "python",
   "pygments_lexer": "ipython3",
   "version": "3.7.0"
  }
 },
 "nbformat": 4,
 "nbformat_minor": 2
}
