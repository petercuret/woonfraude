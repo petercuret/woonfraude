{
 "cells": [
  {
   "cell_type": "code",
   "execution_count": 1,
   "metadata": {},
   "outputs": [
    {
     "ename": "SyntaxError",
     "evalue": "EOL while scanning string literal (datasets_oo.py, line 584)",
     "output_type": "error",
     "traceback": [
      "Traceback \u001b[0;36m(most recent call last)\u001b[0m:\n",
      "  File \u001b[1;32m\"/usr/local/lib/python3.6/site-packages/IPython/core/interactiveshell.py\"\u001b[0m, line \u001b[1;32m3291\u001b[0m, in \u001b[1;35mrun_code\u001b[0m\n    exec(code_obj, self.user_global_ns, self.user_ns)\n",
      "\u001b[0;36m  File \u001b[0;32m\"<ipython-input-1-73780211908a>\"\u001b[0;36m, line \u001b[0;32m10\u001b[0;36m, in \u001b[0;35m<module>\u001b[0;36m\u001b[0m\n\u001b[0;31m    from datasets_oo import *\u001b[0m\n",
      "\u001b[0;36m  File \u001b[0;32m\"/home/tjongstra/Documents/woonfraude/codebase/datasets_oo.py\"\u001b[0;36m, line \u001b[0;32m584\u001b[0m\n\u001b[0;31m    '_huisnummer_toevoeging_ligplaats', '_huisnummer_toevoeging_standplaats', '_huisnummer_toevoeging_verblijfsobject,\u001b[0m\n\u001b[0m                                                                                                                      ^\u001b[0m\n\u001b[0;31mSyntaxError\u001b[0m\u001b[0;31m:\u001b[0m EOL while scanning string literal\n"
     ]
    }
   ],
   "source": [
    "import os, sys\n",
    "from sklearn.pipeline import Pipeline\n",
    "from pathlib import Path\n",
    "\n",
    "# Add local codebase to path\n",
    "user = str(Path.home()).split('/')[-1]  # Slightly ugly way to get the username.\n",
    "sys.path.insert(1, f'/data/{user}/Documents/woonfraude/codebase')\n",
    "\n",
    "# Import own modules\n",
    "from datasets_oo import *\n",
    "from clean_oo import *\n",
    "from extract_features_oo import *"
   ]
  },
  {
   "cell_type": "code",
   "execution_count": null,
   "metadata": {
    "scrolled": true
   },
   "outputs": [],
   "source": [
    "# bagDataset = BagDataset()\n",
    "# bagDataset.download(force=True)\n",
    "# bagDataset.load('download')\n",
    "# bagDataset.bag_fix()"
   ]
  },
  {
   "cell_type": "code",
   "execution_count": null,
   "metadata": {},
   "outputs": [],
   "source": [
    "# adresDataset = AdresDataset()\n",
    "# adresDataset.load('download_leegstand_woningId_bag_personen_hotline')"
   ]
  },
  {
   "cell_type": "code",
   "execution_count": null,
   "metadata": {},
   "outputs": [],
   "source": [
    "###################\n",
    "## Load datasets ##\n",
    "###################\n",
    "# Download (or load cached versions of) the datasets.\n",
    "\n",
    "# Initialize dataset objects\n",
    "adresDataset = AdresDataset()\n",
    "zakenDataset = ZakenDataset()\n",
    "stadiaDataset = StadiaDataset()\n",
    "personenDataset = PersonenDataset()\n",
    "bagDataset = BagDataset()\n",
    "hotlineDataset = HotlineDataset()\n",
    "\n",
    "# # Download and perform dataset-specific processing.\n",
    "# # Uncomment code and run once. Use load-from cache functionality below afterwards.\n",
    "# adresDataset.download(force=True)\n",
    "# adresDataset.load('download')\n",
    "# adresDataset.extract_leegstand()\n",
    "# adresDataset.enrich_with_woning_id()\n",
    "\n",
    "# zakenDataset.download(force=True)\n",
    "# zakenDataset.load('download')\n",
    "# zakenDataset.add_categories()\n",
    "# zakenDataset.filter_categories()\n",
    "\n",
    "# stadiaDataset.download(force=True)\n",
    "# stadiaDataset.load('download')\n",
    "# stadiaDataset.add_zaak_stadium_ids()\n",
    "# stadiaDataset.add_labels()\n",
    "\n",
    "# personenDataset.download(force=True)\n",
    "\n",
    "# bagDataset.download(force=True)\n",
    "# bagDataset.load('download')\n",
    "# bagDataset.bag_fix()\n",
    "\n",
    "# hotlineDataset.download(force=True)\n",
    "# hotlineDataset.load('download')\n",
    "\n",
    "# Load datasets from cache (if download and processing steps have already been done).\n",
    "adresDataset.load('download_leegstand_woningId')\n",
    "zakenDataset.load('download_categories_filterCategories')\n",
    "stadiaDataset.load('download_ids_labels')\n",
    "personenDataset.load('download')\n",
    "bagDataset.load('download_columnFix')\n",
    "hotlineDataset.load('download')"
   ]
  },
  {
   "cell_type": "code",
   "execution_count": 5,
   "metadata": {},
   "outputs": [
    {
     "name": "stdout",
     "output_type": "stream",
     "text": [
      "Dataframe \"zaken\": Dropped 0 duplicates!\n",
      "Dataframe \"zaken\": Fixed dates!\n",
      "Dataframe \"zaken\": Cleaned out 3 dates!\n",
      "Lowered strings of cols ['beh_code', 'beh_oms', 'afg_code_beh', 'afs_code', 'afs_oms', 'afg_code_afs', 'eigenaar', 'zaak_id', 'mededelingen', 'categorie'] in df zaken!\n",
      "Now extracting features from column: 'afg_code_beh'.\n",
      "Done!\n",
      "Now extracting features from column: 'beh_code'.\n",
      "Done!\n",
      "Now extracting features from column: 'eigenaar'.\n",
      "Done!\n",
      "Now extracting features from column: 'categorie'.\n",
      "Done!\n"
     ]
    }
   ],
   "source": [
    "#########################\n",
    "## Clean zaken dataset ##\n",
    "#########################\n",
    "\n",
    "zakenPipeline = Pipeline(steps=[\n",
    "    ('clean', CleanTransformer(\n",
    "        id_column=zakenDataset.id_column,\n",
    "        drop_duplicates=True,\n",
    "        fix_date_columns=['begindatum','einddatum', 'wzs_update_datumtijd'],\n",
    "        clean_dates=True,\n",
    "        lower_string_columns=True,\n",
    "        impute_missing_values=True)\n",
    "    ),\n",
    "    ('extract', FeatureExtractionTransformer(\n",
    "        categorical_cols_hot=['afg_code_beh', 'beh_code', 'eigenaar', 'categorie'])\n",
    "    )\n",
    "    ])\n",
    "\n",
    "zaken = zakenPipeline.fit_transform(zakenDataset.data)"
   ]
  },
  {
   "cell_type": "code",
   "execution_count": 6,
   "metadata": {},
   "outputs": [
    {
     "name": "stdout",
     "output_type": "stream",
     "text": [
      "Dataframe \"stadia\": Dropped 0 duplicates!\n",
      "Dataframe \"stadia\": Fixed dates!\n",
      "Dataframe \"stadia\": Cleaned out 0 dates!\n",
      "Lowered strings of cols ['afg_co', 'sta_code', 'sta_oms', 'afg_code_stad', 'afs_code', 'afs_oms', 'afg_code_afs', 'resultaat', 'mdr_code', 'user_created', 'user_modified', 'stadia_id', 'zaak_id', 'stadium_id', 'label'] in df stadia!\n"
     ]
    }
   ],
   "source": [
    "##########################\n",
    "## Clean stadia dataset ##\n",
    "##########################\n",
    "\n",
    "stadiaPipeline = Pipeline(steps=[\n",
    "    ('clean', CleanTransformer(\n",
    "        id_column=stadiaDataset.id_column,\n",
    "        drop_duplicates=True,\n",
    "        fix_date_columns=['begindatum', 'peildatum', 'einddatum', 'date_created',\n",
    "                          'date_modified', 'wzs_update_datumtijd'],\n",
    "        clean_dates=True,\n",
    "        lower_string_columns=True,\n",
    "        impute_missing_values=True)\n",
    "    )])\n",
    "\n",
    "stadia = stadiaPipeline.fit_transform(stadiaDataset.data)"
   ]
  },
  {
   "cell_type": "code",
   "execution_count": 7,
   "metadata": {},
   "outputs": [
    {
     "name": "stdout",
     "output_type": "stream",
     "text": [
      "Dataframe \"personen\": Dropped 0 duplicates!\n",
      "Dataframe \"personen\": Fixed dates!\n",
      "Lowered strings of cols ['pen_type', 'gezinsverhouding', 'geslacht', 'voorletters', 'burgerlijke_staat', 'naam', 'geheim_adres', 'voorv_mnaam', 'voorv_naam', 'meisjesnaam', 'vertrekdatum_adam', 'ind_naamgebruik', 'nat_ned', 'ind_nat_ovlp', 'verblijfstatus', 'datum_einde_vblstat', 'landcode', 'user_created', 'user_modified', 'datum_begin_vblstat', 'ais_nr', 'crv_nr', 'geheim', 'in_onderzoek', 'datum_verkrijging_vreemd', 'voorletters_zdia', 'naam_zdia', 'voorv_mnaam_zdia', 'voorv_naam_zdia', 'meisjesnaam_zdia', 'nm_dia_255', 'mnm_dia_255'] in df personen!\n"
     ]
    }
   ],
   "source": [
    "############################\n",
    "## Clean personen dataset ##\n",
    "############################\n",
    "\n",
    "personenPipeline = Pipeline(steps=[\n",
    "    ('clean', CleanTransformer(\n",
    "        id_column=personenDataset.id_column,\n",
    "        drop_duplicates=True,\n",
    "        fix_date_columns=['geboortedatum'],\n",
    "        lower_string_columns=True)\n",
    "    )])\n",
    "\n",
    "personen = personenPipeline.fit_transform(personenDataset.data)"
   ]
  },
  {
   "cell_type": "code",
   "execution_count": 8,
   "metadata": {
    "scrolled": true
   },
   "outputs": [
    {
     "name": "stdout",
     "output_type": "stream",
     "text": [
      "Dataframe \"bag\": Dropped 0 duplicates!\n",
      "Lowered strings of cols ['id_nummeraanduiding', 'landelijk_id_nummeraanduiding', 'huisnummer_toevoeging_nummeraanduiding', 'postcode', 'type', 'adres_nummer', 'vervallen_nummeraanduiding', 'hoofdadres', '_openbare_ruimte_naam_nummeraanduiding', 'bron_id_nummeraanduiding', 'ligplaats_id', 'openbare_ruimte_id', 'standplaats_id', 'status_id_nummeraanduiding', 'verblijfsobject_id', '_geom', 'id_ligplaats', 'landelijk_id_ligplaats', 'vervallen_ligplaats', 'geometrie_ligplaats', '_huisletter_ligplaats', 'bron_id_ligplaats', 'status_id_ligplaats', 'id_standplaats', 'landelijk_id_standplaats', 'vervallen_standplaats', 'geometrie_standplaats', '_huisnummer_toevoeging_standplaats', 'bron_id_standplaats', 'status_id_standplaats', 'id_verblijfsobject', 'landelijk_id_verblijfsobject', 'status_coordinaat_code', 'status_coordinaat_omschrijving', 'type_woonobject_code', 'type_woonobject_omschrijving', 'geometrie_verblijfsobject', '_openbare_ruimte_naam_verblijfsobject', '_huisletter_verblijfsobject', '_huisnummer_toevoeging_verblijfsobject', 'bron_id_verblijfsobject', 'eigendomsverhouding_id', 'financieringswijze_id', 'gebruik_id', 'ligging_id', 'locatie_ingang_id', 'reden_afvoer_id', 'reden_opvoer_id', 'status_id_verblijfsobject', 'toegang_id', '_gebiedsgerichtwerken_id', '_grootstedelijkgebied_id', 'buurt_id', 'document_mutatie', 'document_nummer', 'begin_geldigheid', 'einde_geldigheid'] in df bag!\n",
      "Now extracting features from column: 'status_coordinaat_code'.\n",
      "Done!\n",
      "Now extracting features from column: 'type_woonobject_omschrijving'.\n",
      "Done!\n",
      "Now extracting features from column: 'eigendomsverhouding_id'.\n",
      "Done!\n",
      "Now extracting features from column: 'financieringswijze_id'.\n",
      "Done!\n",
      "Now extracting features from column: 'gebruik_id'.\n",
      "Done!\n",
      "Now extracting features from column: 'ligging_id'.\n",
      "Done!\n",
      "Now extracting features from column: 'reden_opvoer_id'.\n",
      "Done!\n",
      "Now extracting features from column: 'status_id_nummeraanduiding'.\n",
      "Done!\n",
      "Now extracting features from column: 'toegang_id'.\n",
      "Done!\n"
     ]
    }
   ],
   "source": [
    "#######################\n",
    "## Clean BAG dataset ##\n",
    "#######################\n",
    "\n",
    "bagPipeline = Pipeline(steps=[\n",
    "    ('clean', CleanTransformer(\n",
    "        id_column=bagDataset.id_column,\n",
    "        drop_duplicates=True,\n",
    "        fix_date_columns=[],\n",
    "        drop_columns = ['indicatie_geconstateerd', 'indicatie_in_onderzoek', 'woningvoorraad'],\n",
    "        lower_string_columns=True,\n",
    "        impute_missing_values=True,\n",
    "        impute_missing_values_mode=['status_coordinaat_code'],\n",
    "#         impute_missing_values_mode=['status_coordinaat_code', 'indicatie_geconstateerd',\n",
    "#                                     'indicatie_in_onderzoek', 'woningvoorraad'],\n",
    "        fillna_columns={'_huisnummer_verblijfsobject': 0,\n",
    "                         '_huisletter_verblijfsobject': 'None',\n",
    "                         '_openbare_ruimte_naam_verblijfsobject': 'None',\n",
    "                         '_huisnummer_toevoeging_verblijfsobject': 'None',\n",
    "                         'type_woonobject_omschrijving': 'None',\n",
    "                         'eigendomsverhouding_id': 'None',\n",
    "                         'financieringswijze_id': -1,\n",
    "                         'gebruik_id': -1,\n",
    "                         'reden_opvoer_id': -1,\n",
    "                         'status_id_verblijfsobject': -1,\n",
    "                         'toegang_id': 'None'})\n",
    "    ),\n",
    "    ('extract', FeatureExtractionTransformer(\n",
    "        categorical_cols_hot=['status_coordinaat_code', 'type_woonobject_omschrijving',\n",
    "                              'eigendomsverhouding_id', 'financieringswijze_id',\n",
    "                              'gebruik_id', 'ligging_id', 'reden_opvoer_id',\n",
    "                              'status_id_nummeraanduiding', 'toegang_id'])\n",
    "    )\n",
    "    ])\n",
    "\n",
    "bag = bagPipeline.fit_transform(bagDataset.data)"
   ]
  },
  {
   "cell_type": "code",
   "execution_count": 9,
   "metadata": {},
   "outputs": [
    {
     "name": "stdout",
     "output_type": "stream",
     "text": [
      "Dataframe \"hotline\": Dropped 0 duplicates!\n",
      "Lowered strings of cols ['mdw_code', 'overtreding_code', 'melder_anoniem', 'melder_naam', 'melder_emailadres', 'melder_telnr', 'situatie_schets', 'user_created', 'user_modified'] in df hotline!\n"
     ]
    }
   ],
   "source": [
    "###########################\n",
    "## Clean hotline dataset ##\n",
    "###########################\n",
    "\n",
    "hotlinePipeline = Pipeline(steps=[\n",
    "    ('clean', CleanTransformer(\n",
    "        id_column=hotlineDataset.id_column,\n",
    "        drop_duplicates=True,\n",
    "        lower_string_columns=True,\n",
    "        impute_missing_values=True)\n",
    "    )])\n",
    "\n",
    "hotline = hotlinePipeline.fit_transform(hotlineDataset.data)"
   ]
  },
  {
   "cell_type": "code",
   "execution_count": 10,
   "metadata": {},
   "outputs": [
    {
     "name": "stdout",
     "output_type": "stream",
     "text": [
      "Dataframe \"adres\": Dropped 0 duplicates!\n",
      "Dataframe \"adres\": Fixed dates!\n",
      "Lowered strings of cols ['postcode', 'sdl_code', 'brt_code', 'pvh_cd', 'pvh_omschr', 'sbw_omschr', 'sbv_omschr', 'wzs_buurtcode_os_2015', 'wzs_buurtnaam_os_2015', 'wzs_buurtcombinatiecode_os_2015', 'wzs_buurtcombinatienaam_os_2015', 'wzs_22gebiedencode_os_2015', 'wzs_22gebiedennaam_os_2015', 'wzs_rayoncode_os_2015', 'wzs_rayonnaam_os_2015', 'wzs_stadsdeelcode_os_2015', 'wzs_stadsdeelnaam_os_2015', 'wzs_alternatieve_buurtennaam_os_2015', 'wzs_alternatieve_buurtencode_os_2015', 'wzs_geom', 'wzs_wijze_verrijking_geo', 'wzs_22gebiedencode_2015', 'wzs_22gebiedennaam_2015', 'sttnaam', 'hsltr', 'toev', 'brtcombi_naam', 'sdl_naam', 'brt_naam', 'a_dam_bag', 'landelijk_bag', 'hvv_dag_tek', 'max_vestig_dtm'] in df adres!\n",
      "Now extracting features from column: 'toev'.\n",
      "Done!\n",
      "Now extracting features from column: 'pvh_omschr'.\n",
      "Done!\n",
      "Now extracting features from column: 'sbw_omschr'.\n",
      "Done!\n",
      "Now extracting features from column: 'sbv_omschr'.\n",
      "Done!\n"
     ]
    }
   ],
   "source": [
    "#########################\n",
    "## Clean adres dataset ##\n",
    "#########################\n",
    "\n",
    "# Hier de extract stap weghalen? Deze past waarschijnlijk beter na het combinen v/d datasets.\n",
    "adresPipeline = Pipeline(steps=[\n",
    "    ('clean', CleanTransformer(\n",
    "        id_column=adresDataset.id_column,\n",
    "        drop_duplicates=True,\n",
    "        fix_date_columns=['hvv_dag_tek', 'max_vestig_dtm', 'wzs_update_datumtijd'],\n",
    "        lower_string_columns=True,\n",
    "        impute_missing_values=True,\n",
    "        fillna_columns={'hsnr': 0, 'sttnaam': 'None', 'hsltr': 'None', 'toev': 'None'})\n",
    "    ),\n",
    "    ('extract', FeatureExtractionTransformer(\n",
    "        categorical_cols_hot=['toev', 'pvh_omschr', 'sbw_omschr', 'sbv_omschr'],\n",
    "        ))\n",
    "    ])\n",
    "\n",
    "adres = adresPipeline.fit_transform(adresDataset.data)"
   ]
  },
  {
   "cell_type": "code",
   "execution_count": 11,
   "metadata": {
    "scrolled": true
   },
   "outputs": [
    {
     "name": "stdout",
     "output_type": "stream",
     "text": [
      "Saving version 'download_leegstand_woningId_bag' of dataframe 'adres'.\n"
     ]
    },
    {
     "name": "stderr",
     "output_type": "stream",
     "text": [
      "/home/tjongstra/.local/lib/python3.6/site-packages/pandas/core/generic.py:2378: PerformanceWarning: \n",
      "your performance may suffer as PyTables will pickle object types that it cannot\n",
      "map directly to c-types [inferred_type->mixed-integer,key->block1_values] [items->['postcode', 'sdl_code', 'brt_code', 'pvh_cd', 'pvh_omschr', 'sbw_omschr', 'sbv_omschr', 'wzs_buurtcode_os_2015', 'wzs_buurtnaam_os_2015', 'wzs_buurtcombinatiecode_os_2015', 'wzs_buurtcombinatienaam_os_2015', 'wzs_22gebiedencode_os_2015', 'wzs_22gebiedennaam_os_2015', 'wzs_rayoncode_os_2015', 'wzs_rayonnaam_os_2015', 'wzs_stadsdeelcode_os_2015', 'wzs_stadsdeelnaam_os_2015', 'wzs_alternatieve_buurtennaam_os_2015', 'wzs_alternatieve_buurtencode_os_2015', 'wzs_geom', 'wzs_wijze_verrijking_geo', 'wzs_22gebiedencode_2015', 'wzs_22gebiedennaam_2015', 'sttnaam', 'hsltr', 'toev', 'brtcombi_naam', 'sdl_naam', 'brt_naam', 'a_dam_bag', 'landelijk_bag', 'postcode_x', 'id_nummeraanduiding', 'landelijk_id_nummeraanduiding', 'huisnummer_toevoeging_nummeraanduiding', 'type', 'adres_nummer', '_openbare_ruimte_naam_nummeraanduiding', 'bron_id_nummeraanduiding', 'ligplaats_id', 'openbare_ruimte_id', 'standplaats_id', 'status_id_nummeraanduiding', 'verblijfsobject_id', '_geom', 'id_ligplaats', 'landelijk_id_ligplaats', 'geometrie_ligplaats', '_huisletter_ligplaats', 'bron_id_ligplaats', 'status_id_ligplaats', 'id_standplaats', 'landelijk_id_standplaats', 'geometrie_standplaats', '_huisnummer_toevoeging_standplaats', 'bron_id_standplaats', 'status_id_standplaats', 'id_verblijfsobject', 'landelijk_id_verblijfsobject', 'status_coordinaat_code', 'status_coordinaat_omschrijving', 'type_woonobject_code', 'type_woonobject_omschrijving', 'geometrie_verblijfsobject', '_openbare_ruimte_naam_verblijfsobject', '_huisletter_verblijfsobject', '_huisnummer_toevoeging_verblijfsobject', 'bron_id_verblijfsobject', 'eigendomsverhouding_id', 'financieringswijze_id', 'gebruik_id', 'ligging_id', 'locatie_ingang_id', 'reden_afvoer_id', 'reden_opvoer_id', 'status_id_verblijfsobject', 'toegang_id', '_gebiedsgerichtwerken_id', '_grootstedelijkgebied_id', 'buurt_id', 'document_nummer']]\n",
      "\n",
      "  return pytables.to_hdf(path_or_buf, key, self, **kwargs)\n"
     ]
    },
    {
     "name": "stdout",
     "output_type": "stream",
     "text": [
      "Now looping over all address ids that have a link with one or more inhabitants...\n",
      "0\n",
      "1000\n",
      "2000\n",
      "3000\n",
      "4000\n",
      "5000\n",
      "6000\n",
      "7000\n",
      "8000\n",
      "9000\n",
      "10000\n",
      "11000\n",
      "12000\n",
      "13000\n",
      "14000\n",
      "15000\n",
      "16000\n",
      "17000\n",
      "18000\n",
      "19000\n",
      "20000\n",
      "21000\n",
      "22000\n",
      "23000\n",
      "24000\n",
      "25000\n",
      "26000\n",
      "27000\n",
      "28000\n",
      "29000\n",
      "30000\n",
      "31000\n",
      "32000\n",
      "33000\n",
      "34000\n",
      "35000\n",
      "36000\n",
      "37000\n",
      "38000\n",
      "39000\n",
      "40000\n",
      "41000\n",
      "42000\n",
      "43000\n",
      "44000\n",
      "45000\n",
      "46000\n",
      "47000\n",
      "48000\n",
      "49000\n",
      "50000\n",
      "51000\n",
      "52000\n",
      "53000\n",
      "Now looping over all rows in the main dataframe in order to add person information...\n",
      "0\n",
      "1000\n",
      "2000\n",
      "3000\n",
      "4000\n",
      "5000\n",
      "6000\n",
      "7000\n",
      "8000\n",
      "9000\n",
      "10000\n",
      "11000\n",
      "12000\n",
      "13000\n",
      "14000\n",
      "15000\n",
      "16000\n",
      "17000\n",
      "18000\n",
      "19000\n",
      "20000\n",
      "21000\n",
      "22000\n",
      "23000\n",
      "24000\n",
      "25000\n",
      "26000\n",
      "27000\n",
      "28000\n",
      "29000\n",
      "30000\n",
      "31000\n",
      "32000\n",
      "33000\n",
      "34000\n",
      "35000\n",
      "36000\n",
      "37000\n",
      "38000\n",
      "39000\n",
      "40000\n",
      "41000\n",
      "42000\n",
      "43000\n",
      "44000\n",
      "45000\n",
      "46000\n",
      "47000\n",
      "48000\n",
      "49000\n",
      "50000\n",
      "51000\n",
      "52000\n",
      "53000\n",
      "54000\n",
      "55000\n",
      "56000\n",
      "57000\n",
      "...done!\n",
      "Saving version 'download_leegstand_woningId_bag_personen' of dataframe 'adres'.\n"
     ]
    },
    {
     "name": "stderr",
     "output_type": "stream",
     "text": [
      "/home/tjongstra/.local/lib/python3.6/site-packages/pandas/core/generic.py:2378: PerformanceWarning: \n",
      "your performance may suffer as PyTables will pickle object types that it cannot\n",
      "map directly to c-types [inferred_type->mixed-integer,key->block5_values] [items->['postcode', 'sdl_code', 'brt_code', 'pvh_cd', 'pvh_omschr', 'sbw_omschr', 'sbv_omschr', 'wzs_buurtcode_os_2015', 'wzs_buurtnaam_os_2015', 'wzs_buurtcombinatiecode_os_2015', 'wzs_buurtcombinatienaam_os_2015', 'wzs_22gebiedencode_os_2015', 'wzs_22gebiedennaam_os_2015', 'wzs_rayoncode_os_2015', 'wzs_rayonnaam_os_2015', 'wzs_stadsdeelcode_os_2015', 'wzs_stadsdeelnaam_os_2015', 'wzs_alternatieve_buurtennaam_os_2015', 'wzs_alternatieve_buurtencode_os_2015', 'wzs_geom', 'wzs_wijze_verrijking_geo', 'wzs_22gebiedencode_2015', 'wzs_22gebiedennaam_2015', 'sttnaam', 'hsltr', 'toev', 'brtcombi_naam', 'sdl_naam', 'brt_naam', 'a_dam_bag', 'landelijk_bag', 'postcode_x', 'id_nummeraanduiding', 'landelijk_id_nummeraanduiding', 'huisnummer_toevoeging_nummeraanduiding', 'type', 'adres_nummer', '_openbare_ruimte_naam_nummeraanduiding', 'bron_id_nummeraanduiding', 'ligplaats_id', 'openbare_ruimte_id', 'standplaats_id', 'status_id_nummeraanduiding', 'verblijfsobject_id', '_geom', 'id_ligplaats', 'landelijk_id_ligplaats', 'geometrie_ligplaats', '_huisletter_ligplaats', 'bron_id_ligplaats', 'status_id_ligplaats', 'id_standplaats', 'landelijk_id_standplaats', 'geometrie_standplaats', '_huisnummer_toevoeging_standplaats', 'bron_id_standplaats', 'status_id_standplaats', 'id_verblijfsobject', 'landelijk_id_verblijfsobject', 'status_coordinaat_code', 'status_coordinaat_omschrijving', 'type_woonobject_code', 'type_woonobject_omschrijving', 'geometrie_verblijfsobject', '_openbare_ruimte_naam_verblijfsobject', '_huisletter_verblijfsobject', '_huisnummer_toevoeging_verblijfsobject', 'bron_id_verblijfsobject', 'eigendomsverhouding_id', 'financieringswijze_id', 'gebruik_id', 'ligging_id', 'locatie_ingang_id', 'reden_afvoer_id', 'reden_opvoer_id', 'status_id_verblijfsobject', 'toegang_id', '_gebiedsgerichtwerken_id', '_grootstedelijkgebied_id', 'buurt_id', 'document_nummer']]\n",
      "\n",
      "  return pytables.to_hdf(path_or_buf, key, self, **kwargs)\n"
     ]
    },
    {
     "name": "stdout",
     "output_type": "stream",
     "text": [
      "Saving version 'download_leegstand_woningId_bag_personen_hotline' of dataframe 'adres'.\n"
     ]
    }
   ],
   "source": [
    "######################\n",
    "## Combine datasets ##\n",
    "######################\n",
    "\n",
    "# TODO: - UPDATEN VAN DE bag_remove KOLOMMEN\n",
    "#       - BASE NOTEBOOK UPDATEN & MASTER NOTEBOOK HIERIN AANROEPEN (PAPERMILL)\n",
    "#       - MACHINE LEARNING WEER LATEN WERKEN\n",
    "#       - DOCUMENTEREN NOTEBOOKS\n",
    "#       - DOCUMENTEREN README\n",
    "#       - PARAMETER OPTIMALISATIE SEARCH RUNNEN\n",
    "\n",
    "adresDataset.enrich_with_bag(bagDataset.data)\n",
    "adresDataset.enrich_with_personen_features(personenDataset.data)\n",
    "adresDataset.add_hotline_features(hotlineDataset.data)"
   ]
  },
  {
   "cell_type": "code",
   "execution_count": 20,
   "metadata": {
    "scrolled": true
   },
   "outputs": [
    {
     "name": "stdout",
     "output_type": "stream",
     "text": [
      "['_gebiedsgerichtwerken_id', '_geom', '_grootstedelijkgebied_id', '_huisletter_ligplaats', '_huisletter_verblijfsobject', '_huisnummer_ligplaats', '_huisnummer_toevoeging_standplaats', '_huisnummer_toevoeging_verblijfsobject', '_huisnummer_verblijfsobject', '_openbare_ruimte_naam_nummeraanduiding', '_openbare_ruimte_naam_verblijfsobject', 'aantal_kamers', 'adres_nummer', 'begin_geldigheid', 'bouwlaag_toegang', 'bouwlagen', 'bron_id_ligplaats', 'bron_id_nummeraanduiding', 'bron_id_standplaats', 'bron_id_verblijfsobject', 'buurt_id', 'date_modified_nummeraanduiding', 'document_mutatie', 'document_nummer', 'eigendomsverhouding_id#01', 'eigendomsverhouding_id#02', 'einde_geldigheid', 'financieringswijze_id#110', 'financieringswijze_id#200', 'financieringswijze_id#201', 'financieringswijze_id#220', 'financieringswijze_id#250', 'financieringswijze_id#271', 'financieringswijze_id#274', 'financieringswijze_id#301', 'financieringswijze_id#373', 'financieringswijze_id#374', 'financieringswijze_id#375', 'financieringswijze_id#466', 'financieringswijze_id#475', 'financieringswijze_id#476', 'financieringswijze_id#477', 'financieringswijze_id#478', 'financieringswijze_id#500', 'financieringswijze_id#501', 'gebruik_id#1700', 'gebruik_id#1710', 'gebruik_id#1800', 'gebruik_id#2110', 'gebruik_id#2111', 'gebruik_id#2113', 'gebruik_id#2119', 'gebruik_id#2120', 'gebruik_id#2121', 'gebruik_id#2122', 'gebruik_id#2123', 'gebruik_id#2124', 'gebruik_id#2125', 'gebruik_id#2129', 'gebruik_id#2140', 'gebruik_id#2141', 'gebruik_id#2142', 'gebruik_id#2162', 'gebruik_id#2170', 'gebruik_id#2171', 'gebruik_id#2174', 'gebruik_id#2175', 'gebruik_id#2176', 'gebruik_id#2179', 'gebruik_id#2210', 'gebruik_id#2212', 'gebruik_id#2213', 'gebruik_id#2245', 'gebruik_id#2248', 'gebruik_id#2261', 'gebruik_id#2299', 'gebruik_id#2451', 'gebruik_id#3110', 'gebruik_id#3111', 'gebruik_id#3112', 'gebruik_id#3113', 'gebruik_id#3114', 'gebruik_id#3119', 'gebruik_id#3120', 'gebruik_id#3121', 'gebruik_id#3122', 'gebruik_id#3123', 'gebruik_id#3124', 'gebruik_id#3125', 'gebruik_id#3129', 'gebruik_id#3140', 'gebruik_id#3141', 'gebruik_id#3142', 'gebruik_id#3149', 'gebruik_id#3161', 'gebruik_id#3162', 'gebruik_id#3170', 'gebruik_id#3171', 'gebruik_id#3172', 'gebruik_id#3174', 'gebruik_id#3175', 'gebruik_id#3176', 'gebruik_id#3179', 'gebruik_id#3210', 'gebruik_id#3212', 'gebruik_id#3218', 'gebruik_id#3241', 'gebruik_id#3261', 'gebruik_id#3263', 'gebruik_id#3299', 'gebruik_id#3310', 'gebruik_id#3311', 'gebruik_id#3312', 'gebruik_id#3313', 'gebruik_id#3314', 'gebruik_id#3315', 'gebruik_id#3317', 'gebruik_id#3318', 'gebruik_id#3330', 'gebruik_id#3331', 'gebruik_id#3332', 'gebruik_id#3333', 'gebruik_id#3334', 'gebruik_id#3336', 'gebruik_id#3337', 'gebruik_id#3338', 'gebruik_id#3339', 'gebruik_id#3350', 'gebruik_id#3351', 'gebruik_id#3353', 'gebruik_id#3356', 'gebruik_id#3357', 'gebruik_id#3359', 'gebruik_id#3361', 'gebruik_id#3370', 'gebruik_id#3372', 'gebruik_id#3373', 'gebruik_id#3375', 'gebruik_id#3376', 'gebruik_id#3377', 'gebruik_id#3378', 'gebruik_id#3379', 'gebruik_id#3389', 'gebruik_id#3410', 'gebruik_id#3411', 'gebruik_id#3412', 'gebruik_id#3413', 'gebruik_id#3414', 'gebruik_id#3415', 'gebruik_id#3416', 'gebruik_id#3419', 'gebruik_id#3450', 'gebruik_id#3451', 'gebruik_id#3452', 'gebruik_id#3453', 'gebruik_id#3459', 'gebruik_id#3510', 'gebruik_id#3511', 'gebruik_id#3515', 'gebruik_id#3516', 'gebruik_id#3517', 'gebruik_id#3518', 'gebruik_id#3519', 'gebruik_id#3521', 'gebruik_id#3522', 'gebruik_id#3525', 'gebruik_id#3529', 'gebruik_id#3610', 'gebruik_id#3612', 'gebruik_id#3617', 'gebruik_id#3618', 'gebruik_id#3619', 'gebruik_id#3621', 'gebruik_id#3629', 'gebruik_id#3630', 'gebruik_id#3634', 'gebruik_id#3635', 'gebruik_id#3636', 'gebruik_id#3637', 'gebruik_id#3638', 'gebruik_id#3639', 'gebruik_id#3641', 'gebruik_id#3644', 'gebruik_id#3664', 'gebruik_id#3668', 'gebruik_id#3690', 'gebruik_id#4100', 'gebruik_id#4113', 'gebruik_id#4114', 'geometrie_ligplaats', 'geometrie_standplaats', 'geometrie_verblijfsobject', 'hoofdadres', 'huisnummer_toevoeging_nummeraanduiding', 'id_ligplaats', 'id_nummeraanduiding', 'id_standplaats', 'id_verblijfsobject', 'landelijk_id_ligplaats', 'landelijk_id_nummeraanduiding', 'landelijk_id_standplaats', 'landelijk_id_verblijfsobject', 'ligging_id#01', 'ligging_id#02', 'ligging_id#03', 'ligging_id#04', 'ligging_id#05', 'ligging_id#99', 'ligplaats_id', 'locatie_ingang_id', 'openbare_ruimte_id', 'oppervlakte', 'postcode', 'reden_afvoer_id', 'reden_opvoer_id#10', 'reden_opvoer_id#11', 'reden_opvoer_id#12', 'reden_opvoer_id#13', 'reden_opvoer_id#20', 'reden_opvoer_id#21', 'reden_opvoer_id#24', 'reden_opvoer_id#25', 'reden_opvoer_id#26', 'reden_opvoer_id#27', 'reden_opvoer_id#28', 'reden_opvoer_id#29', 'reden_opvoer_id#31', 'reden_opvoer_id#32', 'reden_opvoer_id#33', 'reden_opvoer_id#36', 'reden_opvoer_id#98', 'reden_opvoer_id#99', 'standplaats_id', 'status_coordinaat_code#def', 'status_coordinaat_code#tmp', 'status_coordinaat_omschrijving', 'status_id_ligplaats', 'status_id_nummeraanduiding#16', 'status_id_nummeraanduiding#6', 'status_id_nummeraanduiding#7', 'status_id_standplaats', 'status_id_verblijfsobject', 'toegang_id#01', 'toegang_id#02', 'toegang_id#03', 'toegang_id#04', 'toegang_id#05', 'toegang_id#06', 'toegang_id#07', 'toegang_id#08', 'toegang_id#99', 'type', 'type_woonobject_code', 'type_woonobject_omschrijving#', 'type_woonobject_omschrijving#eengezinswoning', 'type_woonobject_omschrijving#meergezinswoning', 'type_woonobject_omschrijving#onbekend', 'verblijfsobject_id', 'verhuurbare_eenheden', 'vervallen_ligplaats', 'vervallen_nummeraanduiding', 'vervallen_standplaats', 'vervallen_verblijfsobject']\n"
     ]
    }
   ],
   "source": [
    "x = list(bag.columns)\n",
    "print(sorted(x))"
   ]
  },
  {
   "cell_type": "code",
   "execution_count": null,
   "metadata": {},
   "outputs": [],
   "source": [
    "###########################################################\n",
    "## Remove implicit label columns and superfluous columns ##\n",
    "###########################################################\n",
    "\n",
    "adres_remove = [# Remove because cols do not exists when melding is received\n",
    "                    'wzs_update_datumtijd',\n",
    "                    # Remove because cols do not add extra information.\n",
    "                    'kmrs',\n",
    "                    'straatcode',\n",
    "                    'xref',\n",
    "                    'yref',\n",
    "                    'postcode',\n",
    "                    'wzs_buurtcode_os_2015',\n",
    "                    'wzs_buurtcombinatiecode_os_2015',\n",
    "                    'wzs_stadsdeelcode_os_2015',\n",
    "                    'sttnaam',\n",
    "                    'hvv_dag_tek', # Empty column\n",
    "                    'max_vestig_dtm', # Empty column\n",
    "                    'wzs_22gebiedencode_os_2015', # Empty column\n",
    "                    'wzs_22gebiedennaam_os_2015', # Empty column\n",
    "                    'sdl_naam',\n",
    "                    'pvh_cd',\n",
    "                    'sbv_code',\n",
    "                    'sbw_code',\n",
    "                    'wzs_wijze_verrijking_geo',\n",
    "                    'wzs_22gebiedencode_2015',\n",
    "                    'brt_naam',\n",
    "                    'wzs_buurtnaam_os_2015',\n",
    "                    'wzs_buurtcombinatienaam_os_2015',\n",
    "                    'wzs_rayonnaam_os_2015',\n",
    "                    'wzs_rayoncode_os_2015',\n",
    "                    'wzs_stadsdeelnaam_os_2015',\n",
    "                    'wzs_alternatieve_buurtennaam_os_2015',\n",
    "                    'wzs_alternatieve_buurtencode_os_2015',\n",
    "                    'hsltr',\n",
    "                    'wzs_geom',\n",
    "                    'brt_code',\n",
    "                    'brtcombi_code',\n",
    "                    'brtcombi_naam',\n",
    "                    'sdl_code',\n",
    "                    'wzs_22gebiedennaam_2015',\n",
    "                    'wzs_id',\n",
    "                    'a_dam_bag',\n",
    "                    'landelijk_bag']\n",
    "\n",
    "bag_remove = ['einde_geldigheid',               # Only 2 entries in column.\n",
    "              'verhuurbare_eenheden',           # Only ~2k entries in column.\n",
    "              'geometrie_ligplaats',            # Needs a lot of processing before being useful.\n",
    "              'bron_id',                        # Only 2 entries in column.\n",
    "              'locatie_ingang_id',              # Only 2 entries in column.\n",
    "              'reden_afvoer_id',                # Only a few entries in column.\n",
    "              '_gebiedsgerichtwerken_id',       # Superfluous (gebied).\n",
    "              '_grootstedelijkgebied_id',       # Superfluous (grootstedelijkgebied).\n",
    "              'buurt_id',                       # Superfluous (buurt).\n",
    "              # ONDERSTAANDE 4 KOLOMMEN KONDEN EERDER NIET WEG IVM MATCH MET ADRES DATAFRAME.\n",
    "              # DEZE MOETEN NU WEL WEG, DAAROM WORDT NU HIER ALLES WEGGEHAALD.\n",
    "              '_openbare_ruimte_naam_nummeraanduiding',          # Superfluous (straatnaam).\n",
    "              '_huisnummer_nummeraanduiding',                    # Superfluous (huisnummer).\n",
    "              '_huisletter_nummeraanduiding',                    # Superfluous (huisletter).\n",
    "              '_huisnummer_toevoeging_nummeraanduiding',         # Superfluous (huisnummer toevoeging).\n",
    "              'vervallen',                      # Superfluous (all values in col are equal).\n",
    "              'document_mutatie',               # Not available at time of signal.\n",
    "              'date_modified',                  # Not available at time of signal.\n",
    "              'document_nummer',                # Not needed? (Swaan?)\n",
    "              'status_coordinaat_omschrijving', # Not needed? (Swaan?)\n",
    "              'type_woonobject_code',           # Not needed? (Swaan?)\n",
    "              'id_ligplaats',                   # Not needed.\n",
    "              'landelijk_id_ligplaats',         # Not needed.\n",
    "              'id_standplaats',                 # Not needed.\n",
    "              'landelijk_id_standplaats',       # Not needed.\n",
    "              'id_verblijfsobject',             # Not needed.\n",
    "              'landelijk_id_verblijfsobject',   # Not needed.\n",
    "              ]\n",
    "\n",
    "# Remove adres_id, since this is not a feature we want our algorihtm to try and learn from.\n",
    "adresDataset.data.drop(columns=adres_remove + bag_remove + ['adres_id'], inplace=True)"
   ]
  },
  {
   "cell_type": "code",
   "execution_count": null,
   "metadata": {},
   "outputs": [],
   "source": []
  }
 ],
 "metadata": {
  "kernelspec": {
   "display_name": "Python 3",
   "language": "python",
   "name": "python3"
  },
  "language_info": {
   "codemirror_mode": {
    "name": "ipython",
    "version": 3
   },
   "file_extension": ".py",
   "mimetype": "text/x-python",
   "name": "python",
   "nbconvert_exporter": "python",
   "pygments_lexer": "ipython3",
   "version": "3.7.3"
  }
 },
 "nbformat": 4,
 "nbformat_minor": 2
}
